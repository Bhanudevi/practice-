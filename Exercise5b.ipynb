{
  "nbformat": 4,
  "nbformat_minor": 0,
  "metadata": {
    "colab": {
      "name": "Exercise5b.ipynb",
      "provenance": [],
      "collapsed_sections": [],
      "authorship_tag": "ABX9TyOiTbzOv4Xj3WXnTRgm5Ukw",
      "include_colab_link": true
    },
    "kernelspec": {
      "name": "python3",
      "display_name": "Python 3"
    },
    "language_info": {
      "name": "python"
    }
  },
  "cells": [
    {
      "cell_type": "markdown",
      "metadata": {
        "id": "view-in-github",
        "colab_type": "text"
      },
      "source": [
        "<a href=\"https://colab.research.google.com/github/Bhanudevi/practice-/blob/main/Exercise5b.ipynb\" target=\"_parent\"><img src=\"https://colab.research.google.com/assets/colab-badge.svg\" alt=\"Open In Colab\"/></a>"
      ]
    },
    {
      "cell_type": "markdown",
      "metadata": {
        "id": "9WMPtHDK0lVW"
      },
      "source": [
        "Write a program to use split and join functions in the string and trace a birthday with dictionary data structure."
      ]
    },
    {
      "cell_type": "code",
      "metadata": {
        "colab": {
          "base_uri": "https://localhost:8080/"
        },
        "id": "gHIM9Fgu0ls0",
        "outputId": "706963bc-660c-4cd2-e254-85e1cf8fc148"
      },
      "source": [
        " \n",
        "dob={\"Bhanu\":\"17-Feb-2001\",\"Kushi\":\"20-10-2019\",\"Prasad\":\" 04-12-1996\"}\n",
        " \n",
        "name=input(\"Which person DOB you want\") \n",
        "l=name.split () \n",
        "birth=\" \"\n",
        "Pers=\"\"\n",
        "for i in l:\n",
        "  if i in dob.keys():\n",
        "     Pers=i\n",
        " \n",
        "print(\" \".join([Pers, \"Birthday is\",dob[Pers]]))"
      ],
      "execution_count": null,
      "outputs": [
        {
          "output_type": "stream",
          "text": [
            "Which person DOB you wantKushi\n",
            "Kushi Birthday is 20-10-2019\n"
          ],
          "name": "stdout"
        }
      ]
    }
  ]
}