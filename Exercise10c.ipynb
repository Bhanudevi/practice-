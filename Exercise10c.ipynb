{
  "nbformat": 4,
  "nbformat_minor": 0,
  "metadata": {
    "colab": {
      "name": "Exercise10c.ipynb",
      "provenance": [],
      "collapsed_sections": [],
      "authorship_tag": "ABX9TyP+YL7RV8g7BpT9JClas1Nr",
      "include_colab_link": true
    },
    "kernelspec": {
      "name": "python3",
      "display_name": "Python 3"
    },
    "language_info": {
      "name": "python"
    }
  },
  "cells": [
    {
      "cell_type": "markdown",
      "metadata": {
        "id": "view-in-github",
        "colab_type": "text"
      },
      "source": [
        "<a href=\"https://colab.research.google.com/github/Bhanudevi/practice-/blob/main/Exercise10c.ipynb\" target=\"_parent\"><img src=\"https://colab.research.google.com/assets/colab-badge.svg\" alt=\"Open In Colab\"/></a>"
      ]
    },
    {
      "cell_type": "markdown",
      "metadata": {
        "id": "0l-qOG9DGXgA"
      },
      "source": [
        " Write a program to compute Gcd and lcm of two numbers. Each function should not exceed one line....."
      ]
    },
    {
      "cell_type": "code",
      "metadata": {
        "colab": {
          "base_uri": "https://localhost:8080/"
        },
        "id": "Y1_AEM4fG5KR",
        "outputId": "e5d982f9-aa98-4cb0-cc13-cf5aa6be6f5a"
      },
      "source": [
        " \n",
        "gcd=lambda a,b: a if b==0 else gcd(a,a%b)\n",
        "lcm=lambda a,b: a*b/gcd(a,b)\n",
        "x=int(input(\"Enter a number:\"))\n",
        "y=int(input(\"Enter another number:\"))\n",
        "print(\"GCD:\",gcd(x,y))\n",
        "print(\"LCM:\",lcm(x,y))"
      ],
      "execution_count": null,
      "outputs": [
        {
          "output_type": "stream",
          "text": [
            "Enter a number:4\n",
            "Enter another number:24\n",
            "GCD: 4\n",
            "LCM: 24.0\n"
          ],
          "name": "stdout"
        }
      ]
    }
  ]
}