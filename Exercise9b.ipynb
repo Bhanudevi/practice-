{
  "nbformat": 4,
  "nbformat_minor": 0,
  "metadata": {
    "colab": {
      "name": "Exercise9b.ipynb",
      "provenance": [],
      "collapsed_sections": [],
      "authorship_tag": "ABX9TyMUnHp6HkKgZMMpFhIsnvDP",
      "include_colab_link": true
    },
    "kernelspec": {
      "name": "python3",
      "display_name": "Python 3"
    },
    "language_info": {
      "name": "python"
    }
  },
  "cells": [
    {
      "cell_type": "markdown",
      "metadata": {
        "id": "view-in-github",
        "colab_type": "text"
      },
      "source": [
        "<a href=\"https://colab.research.google.com/github/Bhanudevi/practice-/blob/main/Exercise9b.ipynb\" target=\"_parent\"><img src=\"https://colab.research.google.com/assets/colab-badge.svg\" alt=\"Open In Colab\"/></a>"
      ]
    },
    {
      "cell_type": "markdown",
      "metadata": {
        "id": "jO0e33hBg6BZ"
      },
      "source": [
        "Write a function dup to find all duplicates in a list."
      ]
    },
    {
      "cell_type": "code",
      "metadata": {
        "colab": {
          "base_uri": "https://localhost:8080/"
        },
        "id": "n-eRsxHRhFXH",
        "outputId": "fec7419c-238e-4245-cc4f-1e543fc3ebad"
      },
      "source": [
        " \n",
        "#function to find duplicates \n",
        "def dup(lst):\n",
        "  nums=[]\n",
        "  for i in lst:\n",
        "    count=lst.count(i)\n",
        "    if count>1 and i not in nums:\n",
        "      nums.append(i)\n",
        "  print(nums)\n",
        "n=int(input(\"Enter number of elements in a list:\"))\n",
        "lst=[int(input()) for i in range(n)]\n",
        "print(\"list elements:\",lst)\n",
        "print(\"duplicate elements :\",end=\"\")\n",
        "dup(lst)"
      ],
      "execution_count": null,
      "outputs": [
        {
          "output_type": "stream",
          "text": [
            "Enter number of elements in a list:5\n",
            "1\n",
            "1\n",
            "2\n",
            "3\n",
            "3\n",
            "list elements: [1, 1, 2, 3, 3]\n",
            "duplicate elements :[1, 3]\n"
          ],
          "name": "stdout"
        }
      ]
    }
  ]
}