{
  "nbformat": 4,
  "nbformat_minor": 0,
  "metadata": {
    "colab": {
      "name": "Exercisepython.ipynb",
      "provenance": [],
      "collapsed_sections": [],
      "include_colab_link": true
    },
    "kernelspec": {
      "name": "python3",
      "display_name": "Python 3"
    },
    "language_info": {
      "name": "python"
    }
  },
  "cells": [
    {
      "cell_type": "markdown",
      "metadata": {
        "id": "view-in-github",
        "colab_type": "text"
      },
      "source": [
        "<a href=\"https://colab.research.google.com/github/Bhanudevi/practice-/blob/main/Exercisepython.ipynb\" target=\"_parent\"><img src=\"https://colab.research.google.com/assets/colab-badge.svg\" alt=\"Open In Colab\"/></a>"
      ]
    },
    {
      "cell_type": "markdown",
      "metadata": {
        "id": "g2m6dWfZQyTi"
      },
      "source": [
        "Name:Ch.Bhanu Devi \n",
        " \n",
        "redg no:19A21A0580\n",
        " \n",
        "sec:CSE-B"
      ]
    },
    {
      "cell_type": "markdown",
      "metadata": {
        "id": "jwS_oF8vQXgk"
      },
      "source": [
        "EXERCISE 1-Basics\n",
        "a)Running instructions in Interactive interpreter and a python script\n",
        "AIM:\n",
        "TO run instructions in interactive interpreter and a python script.\n",
        "\n",
        "DESCRIPTION:\n",
        "Interactive mode(REPL) provides us with a quick way of running blocks or a single line of python code.The code executes via the python shell which comes with python installation.To access the python shell,open the terminal of your os & type \"python\" press the enter key & and the python shell will appear."
      ]
    },
    {
      "cell_type": "code",
      "metadata": {
        "colab": {
          "base_uri": "https://localhost:8080/"
        },
        "id": "qnj85KgkQtLh",
        "outputId": "f183b42e-d4c5-4e95-e75b-75db4c7e83e4"
      },
      "source": [
        "2+3"
      ],
      "execution_count": null,
      "outputs": [
        {
          "output_type": "execute_result",
          "data": {
            "text/plain": [
              "5"
            ]
          },
          "metadata": {
            "tags": []
          },
          "execution_count": 1
        }
      ]
    },
    {
      "cell_type": "code",
      "metadata": {
        "colab": {
          "base_uri": "https://localhost:8080/"
        },
        "id": "eRuKdv3-Qzdn",
        "outputId": "fdc702c5-dfe4-4eb2-8432-118d513c747b"
      },
      "source": [
        "print(\"Hello world\")"
      ],
      "execution_count": null,
      "outputs": [
        {
          "output_type": "stream",
          "text": [
            "Hello world\n"
          ],
          "name": "stdout"
        }
      ]
    },
    {
      "cell_type": "code",
      "metadata": {
        "colab": {
          "base_uri": "https://localhost:8080/"
        },
        "id": "qBoihKLAQ6Px",
        "outputId": "d1f60409-3d15-438d-9079-3b70b23ac614"
      },
      "source": [
        "C=\"Python lab programming\"\n",
        "print(C)"
      ],
      "execution_count": null,
      "outputs": [
        {
          "output_type": "stream",
          "text": [
            "Python lab programming\n"
          ],
          "name": "stdout"
        }
      ]
    },
    {
      "cell_type": "code",
      "metadata": {
        "colab": {
          "base_uri": "https://localhost:8080/"
        },
        "id": "9fSW9qTJRFYB",
        "outputId": "783a7a95-74cb-4a86-ebd3-7e46862967c3"
      },
      "source": [
        "Lst=[\"Bhanu\",\"19A21A0580\",15]\n",
        "print(Lst)"
      ],
      "execution_count": null,
      "outputs": [
        {
          "output_type": "stream",
          "name": "stdout",
          "text": [
            "['Bhanu', '19A21A0580', 15]\n"
          ]
        }
      ]
    },
    {
      "cell_type": "code",
      "metadata": {
        "colab": {
          "base_uri": "https://localhost:8080/"
        },
        "id": "jLF3CSauRWs2",
        "outputId": "af817736-4c86-4f3d-c13c-1dd651f2baee"
      },
      "source": [
        "c=10\n",
        "print(type(c))"
      ],
      "execution_count": null,
      "outputs": [
        {
          "output_type": "stream",
          "text": [
            "<class 'int'>\n"
          ],
          "name": "stdout"
        }
      ]
    },
    {
      "cell_type": "code",
      "metadata": {
        "colab": {
          "base_uri": "https://localhost:8080/"
        },
        "id": "Yc8ZGQuoRhty",
        "outputId": "b9a0f274-21b9-438d-aff6-39b5eab5d2d9"
      },
      "source": [
        "a=51\n",
        "b=23\n",
        "print(a+b,a-b,a*c,a/b,a%b,a//b,sep=\"   \")"
      ],
      "execution_count": null,
      "outputs": [
        {
          "output_type": "stream",
          "text": [
            "74   28   510   2.217391304347826   5   2\n"
          ],
          "name": "stdout"
        }
      ]
    },
    {
      "cell_type": "markdown",
      "metadata": {
        "id": "wRrb0WbJkmJ-"
      },
      "source": [
        " b)Write a program to purposefully raise indentation error and correct it.\n",
        "AIM:\n",
        "To write a program to purposefully raise indentation error and correct it.\n",
        "\n",
        "DESCRIPTION:\n",
        "Indentation is a way of telling a python interpreter that the group of statements belongs to a particular block of code.\n",
        "\n",
        "Whitespace is used for indentation.All the statements with the same distance to the right belong to the same block of code.\n",
        "\n"
      ]
    },
    {
      "cell_type": "code",
      "metadata": {
        "id": "Dx-VywzylcNH",
        "colab": {
          "base_uri": "https://localhost:8080/",
          "height": 129
        },
        "outputId": "0d70e021-24a5-4d8c-9552-c45daf3e6ac8"
      },
      "source": [
        "x=2\n",
        "y=3\n",
        "if x+y==5:\n",
        "print(x+y)\n",
        "else:\n",
        "  print(\"false\")"
      ],
      "execution_count": null,
      "outputs": [
        {
          "output_type": "error",
          "ename": "IndentationError",
          "evalue": "ignored",
          "traceback": [
            "\u001b[0;36m  File \u001b[0;32m\"<ipython-input-8-fb4facd442ab>\"\u001b[0;36m, line \u001b[0;32m4\u001b[0m\n\u001b[0;31m    print(x+y)\u001b[0m\n\u001b[0m        ^\u001b[0m\n\u001b[0;31mIndentationError\u001b[0m\u001b[0;31m:\u001b[0m expected an indented block\n"
          ]
        }
      ]
    },
    {
      "cell_type": "markdown",
      "metadata": {
        "id": "nFfyo9dDmMT9"
      },
      "source": [
        "Exercise2a:\n",
        "Write a program to find distance between two points..."
      ]
    },
    {
      "cell_type": "markdown",
      "metadata": {
        "id": "dRoD_ci_-lZH"
      },
      "source": [
        "Aim: To write a program to find distance between two points\n",
        " \n",
        "Description: the distance between two given points (x1,y1) and (x2,y2) is sqrt((x1-x2)²+(y1-y2)²)"
      ]
    },
    {
      "cell_type": "code",
      "metadata": {
        "colab": {
          "base_uri": "https://localhost:8080/"
        },
        "id": "85NzcrWvmRzH",
        "outputId": "882ba910-584a-41c6-aefe-a5a2827a272b"
      },
      "source": [
        " x1=int(input(\"Enter x coordinate of point1:\"))\n",
        "y1=int(input(\"Enter y coordinate of point1:\"))\n",
        "x2=int(input(\"Enter x coordinate of point2:\"))\n",
        "y2=int(input(\"Enter y coordinate of point2:\"))\n",
        "d=(x2-x1)**2 +(y2-y1)**2\n",
        "d=d**(1/2)\n",
        "print(d)"
      ],
      "execution_count": null,
      "outputs": [
        {
          "output_type": "stream",
          "text": [
            "Enter x coordinate of point1:2\n",
            "Enter y coordinate of point1:2\n",
            "Enter y coordinate of point2:0\n",
            "Enter y coordinate of point2:0\n",
            "2.8284271247461903\n"
          ],
          "name": "stdout"
        }
      ]
    },
    {
      "cell_type": "markdown",
      "metadata": {
        "id": "N94o_G83mgbY"
      },
      "source": [
        "B.Write a program add.py that takes 2 numbers as command line arguments and print its sum.\n",
        "AIM:\n",
        "To write a program add.py that takes 2 numbers as command line arguments and to print it's sum.\n",
        "\n",
        "DESCRIPTION:\n",
        "Step1: Open notepad and write the code after that save file with add.py extension.\n",
        "\n",
        "Step2: Open command prompt and type as follows:\n",
        "\n",
        "python add.py n1 n2 ....then it prints the output."
      ]
    },
    {
      "cell_type": "code",
      "metadata": {
        "id": "giaTTiIjmlVP",
        "colab": {
          "base_uri": "https://localhost:8080/"
        },
        "outputId": "6910a7d6-b71a-4799-bb41-051e241714ef"
      },
      "source": [
        "!python3 /content/sample_data/add.py 10 20"
      ],
      "execution_count": null,
      "outputs": [
        {
          "output_type": "stream",
          "name": "stdout",
          "text": [
            "Sum of two numbers : 30\n"
          ]
        }
      ]
    },
    {
      "cell_type": "markdown",
      "metadata": {
        "id": "iyBMCZ4Zm7NB"
      },
      "source": [
        "EXERCISE 3- Control flow\n",
        "a)Write a program for checking whether the given number is an even number or not.\n",
        "AIM:\n",
        "To write a program for checking whether the given number is an even number or not.\n",
        "\n",
        "DESCRIPTION:\n",
        "If given number%2==0 or !=1 then it is even number.\n",
        "\n",
        "If given number%2==1 then it is odd number.\n",
        "\n",
        "In this program we use if-else control statements."
      ]
    },
    {
      "cell_type": "code",
      "metadata": {
        "id": "fZh9rjzHnRU8",
        "colab": {
          "base_uri": "https://localhost:8080/"
        },
        "outputId": "221409b5-2231-4693-9aec-7950c282328f"
      },
      "source": [
        " n=int(input(\"Enter a number:\"))\n",
        "if (n%2==0):\n",
        "  print(n,\"is an even number\")\n",
        "else:\n",
        "  print(n,\"is an odd number\")"
      ],
      "execution_count": null,
      "outputs": [
        {
          "output_type": "stream",
          "text": [
            "Enter a number:6\n",
            "6 is an even number\n"
          ],
          "name": "stdout"
        }
      ]
    },
    {
      "cell_type": "markdown",
      "metadata": {
        "id": "8RonTjcVnURE"
      },
      "source": [
        "b)Using a for loop, write a program that prints out the decimal equivalents of 1/2,1/3,1/4,....1/10.\n",
        "AIM:\n",
        "To write a program that prints out the decimal equivalenta of 1/2,1/3,1/4,....1/10.\n",
        "\n",
        "DESCRIPTION:\n",
        "A for loop is a programming concept that, when it's implemented, executes a piece of code over and over again \"for\" a certain number of times, based on a sequence. In contrast to the while loop, there isn't any condition actively involved - you just execute a piece of code repeatedly for a number of times."
      ]
    },
    {
      "cell_type": "code",
      "metadata": {
        "id": "1i0D93yDno2y",
        "colab": {
          "base_uri": "https://localhost:8080/"
        },
        "outputId": "51b4d48a-bdb2-46dc-d37d-5c0583afb0fe"
      },
      "source": [
        "for I in range(2,10):\n",
        "  print(1/I)"
      ],
      "execution_count": null,
      "outputs": [
        {
          "output_type": "stream",
          "text": [
            "0.5\n",
            "0.3333333333333333\n",
            "0.25\n",
            "0.2\n",
            "0.16666666666666666\n",
            "0.14285714285714285\n",
            "0.125\n",
            "0.1111111111111111\n"
          ],
          "name": "stdout"
        }
      ]
    },
    {
      "cell_type": "markdown",
      "metadata": {
        "id": "TIF7x1lCoEc4"
      },
      "source": [
        ")Write a program using a for loop that loops over a sequence.What is sequence.\n",
        "AIM:\n",
        "To Write a program using a for loop that loops over a sequence.\n",
        "\n",
        "DESCRIPTION:\n",
        "Sequence:\n",
        "\n",
        "In Python, sequence is the generic term for an ordered set. There are several types of sequences in Python, the following three are the most important.\n",
        "\n",
        "Lists are the most versatile sequence type. The elements of a list can be any object, and lists are mutable - they can be changed. Elements can be reassigned or removed, and new elements can be inserted.\n",
        "\n",
        "Tuples are like lists, but they are immutable - they can't be changed.\n",
        "\n",
        "Strings are a special type of sequence that can only store characters, and they have a special notation. However, all of the sequence operations described below can also be used on strings.\n",
        "\n"
      ]
    },
    {
      "cell_type": "code",
      "metadata": {
        "colab": {
          "base_uri": "https://localhost:8080/"
        },
        "id": "qHGEtVk9ojLe",
        "outputId": "dee2ca35-faa0-4eca-9f26-0d22103443c6"
      },
      "source": [
        "Lst=[]\n",
        "n=int(input(\"Enter limit:\"))\n",
        "print(\"Enter elements:\")\n",
        "for i in range(n):\n",
        "  a=int(input())\n",
        "  Lst.append(a)\n",
        "print(Lst)"
      ],
      "execution_count": null,
      "outputs": [
        {
          "output_type": "stream",
          "text": [
            "Enter limit:3\n",
            "Enter elements:\n",
            "1\n",
            "2\n",
            "3\n",
            "[1, 2, 3]\n"
          ],
          "name": "stdout"
        }
      ]
    },
    {
      "cell_type": "markdown",
      "metadata": {
        "id": "Qp_I6FO5pFLa"
      },
      "source": [
        ")Write a program using a while loop that asks the user for a number,and prints a countdown from that number to zero.\n",
        "AIM:\n",
        "To Write a program using a while loop that asks the user for a number,and prints a countdown from that number to zero.\n",
        "\n",
        "DESCRIPTION:\n",
        "While Loop is used to execute a block of statements repeatedly until a given condition is satisfied. And when the condition becomes false, the line immediately after the loop in the program is executed. While loop falls under the category of indefinite iteration."
      ]
    },
    {
      "cell_type": "code",
      "metadata": {
        "id": "ecm7avTjpKBH",
        "colab": {
          "base_uri": "https://localhost:8080/"
        },
        "outputId": "ff4eaea5-bdce-4c97-94bf-e38ef9a43aa5"
      },
      "source": [
        " \n",
        "n=int(input(\"Enter the number to start countdown:\"))\n",
        "while n>=0:\n",
        "  print(n)\n",
        "  n-=1"
      ],
      "execution_count": null,
      "outputs": [
        {
          "output_type": "stream",
          "text": [
            "Enter the number to start countdown:6\n",
            "6\n",
            "5\n",
            "4\n",
            "3\n",
            "2\n",
            "1\n",
            "0\n"
          ],
          "name": "stdout"
        }
      ]
    },
    {
      "cell_type": "markdown",
      "metadata": {
        "id": "uCUVrG_4prza"
      },
      "source": [
        "# EXERCISE 4-Control Flow-Continued\n",
        "\n",
        "# a)Find the sum of all the primes below two million.\n",
        "\n",
        "# AIM:\n",
        "\n",
        " To find the sum of all the primes below two million.\n",
        "\n",
        "# DESCRIPTION:\n",
        "\n",
        "A prime number is a natural number greater than 1 that is not a product of two smaller natural numbers. A natural number greater than 1 that is not prime is called a composite number. For example, 5 is prime because the only ways of writing it as a product, 1 × 5 or 5 × 1, involve 5 itself.\n"
      ]
    },
    {
      "cell_type": "code",
      "metadata": {
        "colab": {
          "base_uri": "https://localhost:8080/"
        },
        "id": "MqgujyxapyQy",
        "outputId": "2f361128-28ba-4db6-f8b1-e34d53ed2800"
      },
      "source": [
        " sum=0\n",
        "for i in range(1,2000):\n",
        "  count=0\n",
        "  for j in range(1,i):\n",
        "    if i%j==0:\n",
        "      count+=1\n",
        "  if count==1:\n",
        "    sum+=i\n",
        "print(\"Sum of all prime numbers is\",sum)"
      ],
      "execution_count": null,
      "outputs": [
        {
          "output_type": "stream",
          "text": [
            "Sum of all prime numbers is 277050\n"
          ],
          "name": "stdout"
        }
      ]
    },
    {
      "cell_type": "markdown",
      "metadata": {
        "id": "70Qxj4OOp0m_"
      },
      "source": [
        "We take 2000000 in the place of 2000"
      ]
    },
    {
      "cell_type": "markdown",
      "metadata": {
        "id": "BBsp5S46p6g6"
      },
      "source": [
        "b)Each new term in the fibonacci sequence is generated by adding the previous two terms.By starting with 1 and 2 ,the first 10 terms will be :1,2,3,5,8,13,21,34,55,89,...\n",
        "AIM:\n",
        "To find Each new term in the fibonacci sequence is generated by adding the previous two terms.By starting with 1 and 2 ,the first 10 terms will be :1,2,3,5,8,13,21,34,55,89,...\n",
        "\n",
        "DESCRIPTION:\n",
        "The Fibonacci sequence is one of the most famous formulas in mathematics. Each number in the sequence is the sum of the two numbers that precede it. So, the sequence goes: 0, 1, 1, 2, 3, 5, 8, 13, 21, 34, and so on. The mathematical equation describing it is Xn+2= Xn+1 + Xn."
      ]
    },
    {
      "cell_type": "code",
      "metadata": {
        "colab": {
          "base_uri": "https://localhost:8080/"
        },
        "id": "U0pHdTlJqBvC",
        "outputId": "757a8f63-e619-46be-ef44-c5ba1c52356b"
      },
      "source": [
        " \n",
        "a=1\n",
        "b=2\n",
        "c=0\n",
        "n=3\n",
        "print(\"Fibonacci series is \",a,\"\",b,end=\"\")\n",
        "while c<=55:\n",
        "  c=a+b\n",
        "  a=b\n",
        "  b=c\n",
        "  n+=1\n",
        "  print(c,end=\" \")"
      ],
      "execution_count": null,
      "outputs": [
        {
          "output_type": "stream",
          "text": [
            "Fibonacci series is  1  23 5 8 13 21 34 55 89 "
          ],
          "name": "stdout"
        }
      ]
    },
    {
      "cell_type": "markdown",
      "metadata": {
        "id": "qoKjvrfY1ljK"
      },
      "source": [
        "c)By considering the terms in the fibonacci sequence whose values do not exceed four million, find the sum of the even-valued terms.\n",
        "AIM:\n",
        "By considering the terms in the fibonacci sequence whose values do not exceed four million, find the sum of the even-valued terms.\n",
        "\n",
        "DESCRIPTION:\n",
        "The Fibonacci sequence is one of the most famous formulas in mathematics. Each number in the sequence is the sum of the two numbers that precede it. So, the sequence goes: 0, 1, 1, 2, 3, 5, 8, 13, 21, 34, and so on. The mathematical equation describing it is Xn+2= Xn+1 + Xn."
      ]
    },
    {
      "cell_type": "code",
      "metadata": {
        "colab": {
          "base_uri": "https://localhost:8080/"
        },
        "id": "udk_iWQn18vs",
        "outputId": "ea4e8086-025c-42b6-c916-21639105e6ae"
      },
      "source": [
        " a=1\n",
        "b=2\n",
        "c=0\n",
        "sum=0\n",
        "while c<3000000:\n",
        "  c=a+b\n",
        "  a=b\n",
        "  b=c\n",
        "  if c%2==0:    sum+=c\n",
        "print(\"Sum of even numbers in a fibonacci series below 4000000 is\",sum)"
      ],
      "execution_count": null,
      "outputs": [
        {
          "output_type": "stream",
          "text": [
            "Sum of even numbers in a fibonacci series below 4000000 is 4613730\n"
          ],
          "name": "stdout"
        }
      ]
    },
    {
      "cell_type": "markdown",
      "metadata": {
        "id": "sOch4RCMY63h"
      },
      "source": [
        " EXERCISE 5-DS\n",
        "a)Write a program to count the numbers of characters in the string and store them in a dictionary data structure.\n",
        "AIM:\n",
        "To Write a program to count the numbers of characters in the string and store them in a dictionary data structure.\n",
        "\n",
        "DESCRIPTION:\n",
        "Dictionary in Python is an unordered collection of data values, used to store data values like a map, which, unlike other Data Types that hold only a single value as an element, Dictionary holds key:value pair. Key-value is provided in the dictionary to make it more optimized.\n",
        "\n"
      ]
    },
    {
      "cell_type": "code",
      "metadata": {
        "colab": {
          "base_uri": "https://localhost:8080/"
        },
        "id": "7l1ijkD6YVwU",
        "outputId": "3d98975a-9d44-4e66-e7b6-f96a9b45bd7e"
      },
      "source": [
        " \n",
        "name=input(\"enter a name:\")\n",
        "dic={}\n",
        "for ch in name:\n",
        "    keys=dic.keys()\n",
        " \n",
        "    if(ch in keys):\n",
        "        dic[ch]=dic[ch]+1\n",
        "    else:\n",
        "        dic[ch]=1\n",
        " \n",
        "print(\"dictionarry is:\",dic)"
      ],
      "execution_count": null,
      "outputs": [
        {
          "output_type": "stream",
          "text": [
            "enter a name:Srinivasarao\n",
            "dictionarry is: {'S': 1, 'r': 2, 'i': 2, 'n': 1, 'v': 1, 'a': 3, 's': 1, 'o': 1}\n"
          ],
          "name": "stdout"
        }
      ]
    },
    {
      "cell_type": "markdown",
      "metadata": {
        "id": "8qizkOUDZYl0"
      },
      "source": [
        "b)Write a program to use split and join methods in the string and trace a birthday with a dictionary data structure.\n",
        "AIM:\n",
        "To Write a program to use split and join methods in the string and trace a birthday with a dictionary data structure.\n",
        "\n",
        "DESCRIPTION:\n",
        "Split a string can be quite useful sometimes, especially when you need only certain parts of strings. A simple yet effective example is splitting the First-name and Last-name of a person. Another application is CSV(Comma Separated Files). We use split to get data from CSV and join to write data to CSV.\n",
        "\n",
        "In Python, we can use the function split() to split a string and join() to join a string."
      ]
    },
    {
      "cell_type": "code",
      "metadata": {
        "colab": {
          "base_uri": "https://localhost:8080/"
        },
        "id": "7UtwffROZ4r9",
        "outputId": "faf4a888-da2c-42f6-c9f6-c25ed85bf650"
      },
      "source": [
        "dob={\"Bhanu\":\"17-02-2001\",\"prasad\":\"4-12-1996\",\"upa\":\"25-12-2013\"}\n",
        "name=input(\"enter which person dob u want:\")\n",
        "l=name.split()\n",
        "print(l)\n",
        "birth=\"\"\n",
        "for i in l:\n",
        "    if i in dob.keys():\n",
        "        pers=i\n",
        "        print(\"\".join([pers,\" birthday is:\",dob[pers]]))"
      ],
      "execution_count": null,
      "outputs": [
        {
          "output_type": "stream",
          "name": "stdout",
          "text": [
            "enter which person dob u want:Bhanu\n",
            "['Bhanu']\n",
            "Bhanu birthday is:17-02-2001\n"
          ]
        }
      ]
    },
    {
      "cell_type": "markdown",
      "metadata": {
        "id": "cRt4ks19bVbf"
      },
      "source": [
        "EXERCISE 6-DS (CONTINUED)\n",
        "a)Write a program combine lists that combines these lists into a directory.\n",
        "AIM:\n",
        "To Write a program combine lists that combines these lists into a directory.\n",
        "\n",
        "DESCRIPTION:\n",
        "Lists are mutable data types in Python. Lists is a 0 based index datatype meaning the index of the first element starts at 0. Lists are used to store multiple items in a single variable. Lists are one of the 4 data types present in Python i.e. Lists, Dictionary, Tuple & Set."
      ]
    },
    {
      "cell_type": "code",
      "metadata": {
        "colab": {
          "base_uri": "https://localhost:8080/"
        },
        "id": "4n16zHHfbo9S",
        "outputId": "ceaab547-5f30-40ff-81a9-417dc50ebdbe"
      },
      "source": [
        " sub=[\"daa\",\"os\",\"dbms\",\"p&s\",\"ppl\",\"se\"]\n",
        "marks=[85,97,65,65,83,56]\n",
        "print(sub)\n",
        "print(marks)\n",
        "dic=dict(zip(sub,marks))\n",
        "print(dic)"
      ],
      "execution_count": null,
      "outputs": [
        {
          "output_type": "stream",
          "text": [
            "['daa', 'os', 'dbms', 'p&s', 'ppl', 'se']\n",
            "[85, 97, 65, 65, 83, 56]\n",
            "{'daa': 85, 'os': 97, 'dbms': 65, 'p&s': 65, 'ppl': 83, 'se': 56}\n"
          ],
          "name": "stdout"
        }
      ]
    },
    {
      "cell_type": "markdown",
      "metadata": {
        "id": "OmuOKH4FbzDo"
      },
      "source": [
        "6b) Write a program to count frequency of characters in a given file.Can you use character frequency to tell whether the given file is a Python program file,C program file or a text file?\n",
        "AIM:\n",
        "To Write a program to count frequency of characters in a given file.Can you use character frequency to tell whether the given file is a Python program file,C program file or a text file\n",
        "\n",
        "DESCRIPTION:\n",
        "Approaches to count the number of times a letter appears in a text file in Python. Method 1: Using the in-built count() method. Approach:\n",
        "\n",
        "Read the file.\n",
        "Store the content of the file in a variable.\n",
        "Use the count() method with the argument as a letter whose frequency is required.\n",
        "Display the count of the letter."
      ]
    },
    {
      "cell_type": "code",
      "metadata": {
        "id": "l8S_0VAfWAn2"
      },
      "source": [
        "filetypes=['.py','.c','.txt']\n",
        "fn=input(\"Enter the file name:\")\n",
        "f=open(fn,\"r\")\n",
        "count=dict()\n",
        "\n",
        "print(\"Given file is\",end=\"\")\n",
        "for ft in filetypes:\n",
        "  if(ft in fn):\n",
        "    if(ft=='.py'):\n",
        "      print(\"Python file\")\n",
        "    elif(ft=='.c'):\n",
        "      print(\"C File\")\n",
        "    elif(ft=='.txt'):\n",
        "       print(\"Text File\")\n",
        "for line in f:\n",
        "  for ch in line:\n",
        "    if ch in count:\n",
        "      count[ch]=count[ch]+1\n",
        "    else:\n",
        "      count[ch]=1\n",
        "print(count)\n",
        "f.close()"
      ],
      "execution_count": null,
      "outputs": []
    },
    {
      "cell_type": "markdown",
      "metadata": {
        "id": "hspVF0o4WGHE"
      },
      "source": [
        "Enter the file name:data.txt\n",
        "Given file isText File\n",
        "{'M': 2, 'y': 1, ' ': 5, 'n': 2, 'a': 3, 'm': 1, 'e': 1, 'i': 4, 's': 1, 'o': 1, 'u': 1, 'k': 1, 'S': 1, 'r': 1, 'V': 1, 'l': 2}"
      ]
    },
    {
      "cell_type": "markdown",
      "metadata": {
        "id": "FzYwYC-WWXdB"
      },
      "source": [
        "# EXERCISE 7-Files\n",
        "\n",
        "# a) Write a program to print each line of a file in reverse order.\n",
        "\n",
        "# AIM\n",
        "\n",
        "To Write a program to print each line of a file in reverse order.\n",
        "\n",
        "# DESCRIPTION:\n",
        "\n",
        "The file handling plays an important role when the data needs to be stored permanently into the\n",
        "file. A file is a named location on disk to store related information. We can access the stored\n",
        "information (non-volatile) after the program termination. In Python, files are treated in two\n",
        "modes as text or binary. The file may be in the text or binary format, and each line of a file is\n",
        "ended with the special character. Hence, a file operation can be done in the following order.\n",
        "□ Open a file\n",
        "□ Read or write - Performing operation\n",
        "□ Close the file\n"
      ]
    },
    {
      "cell_type": "code",
      "metadata": {
        "id": "c9Txic4cdmCY",
        "colab": {
          "base_uri": "https://localhost:8080/"
        },
        "outputId": "ffca30fe-67c9-48fa-c6dd-3612ff968aa2"
      },
      "source": [
        " obj=open(\"/content/sample_data/data.txt\",\"r\")\n",
        "if obj:\n",
        "  st=obj.read()\n",
        "  print(\"File content is:\\n\",st)\n",
        "obj.close()\n",
        "print()\n",
        "lines=st.split('\\n')\n",
        "\n",
        "for ln in lines:\n",
        "  i=len(ln)-1\n",
        "  while(i>=0):\n",
        "    print(ln[i],end=\"\")\n",
        "    i=i-1\n",
        "  print()\n"
      ],
      "execution_count": null,
      "outputs": [
        {
          "output_type": "stream",
          "name": "stdout",
          "text": [
            "File content is:\n",
            " hello python is a high level language. it is interpreted language\n",
            "\n",
            "egaugnal deterpretni si ti .egaugnal level hgih a si nohtyp olleh\n"
          ]
        }
      ]
    },
    {
      "cell_type": "markdown",
      "metadata": {
        "id": "xBqsSukJdthi"
      },
      "source": [
        "B) Write a program to compute the number of characters,words and lines in a file.\n",
        "AIM:\n",
        "To Write a program to compute the number of characters,words and lines in a file.\n",
        "\n",
        "DESCRIPTION:\n",
        "Given a text file fname, the task is to count the total number of characters, words, spaces and lines in the file."
      ]
    },
    {
      "cell_type": "code",
      "metadata": {
        "id": "18tGGkTuZ5_0"
      },
      "source": [
        "nc=nw=nl=0\n",
        "file=open(\"data.txt\",\"r\")\n",
        "\n",
        "nl=nw=nc=0\n",
        "print(\"File Content:\\n\")\n",
        "for line in file:\n",
        "  ln=line.strip(\"\\n\")\n",
        "  print(ln)\n",
        "  words=ln.split()\n",
        "  nl+=1\n",
        "  nw+=len(words)\n",
        "  nc+=len(line)\n",
        "file.close()\n",
        "print(\"\\n No.of lines:\",nl,\"words:\",nw,\"characters:\",nc)"
      ],
      "execution_count": null,
      "outputs": []
    },
    {
      "cell_type": "markdown",
      "metadata": {
        "id": "VuN9Fk8AZ7y7"
      },
      "source": [
        "File Content:\n",
        "\n",
        "hello python is a high level language. it is interpreted language\n",
        "\n",
        " No.of lines: 1 words: 10 characters: 55\n"
      ]
    },
    {
      "cell_type": "markdown",
      "metadata": {
        "id": "l0mN5RyIeNBq"
      },
      "source": [
        " EXERCISE 8-Functions\n",
        "a) Write a function ball collide that takes two balls as parameters and computes if they are colliding.Your function should return a Boolean representing whether or not the balls are colliding.\n",
        "Hint: Represent a ball on a plane as a tuple of (x,y,r),r being the radius.If (distance betweem two balls centers)<=(sum of their radii) then (they are colliding).\n",
        "\n",
        "𝐀𝐈𝐌:\n",
        "To write a function ball collide that takes two balls as parameters and computes if they arecolliding. Your function should return a Boolean representing whether or not the balls arecolliding. Hint: Represent a ball on a plane as a tuple of (x, y, r), r being the radius If (distance between two balls centers) <= (sum of their radii) then (they are colliding)\n",
        "\n",
        "𝐃𝐄𝐒𝐂𝐑𝐈𝐏𝐓𝐈𝐎𝐍:\n",
        "A function in python is a block of code that is defined for doing frequent operations in a particular task. The general format is def Functionname(arguments): Statements Calling a Function: A function can be called by its name followed by arguments within parenthesis. function()\n",
        "\n"
      ]
    },
    {
      "cell_type": "code",
      "metadata": {
        "colab": {
          "base_uri": "https://localhost:8080/"
        },
        "id": "w3pr4WVVeY1o",
        "outputId": "0394daa4-34be-4430-a14b-a8ae90c7da93"
      },
      "source": [
        " import math\n",
        "def collide(ball_tup1,ball_tup2):\n",
        "  x1,y1,r1=ball_tup1\n",
        "  x2,y2,r2=ball_tup2\n",
        "  print(\"ball-01: \",ball_tup1)\n",
        "  print(\"ball-02: \",ball_tup2)\n",
        "  d=math.sqrt((x2-x1)**2+(y2-y1)**2)\n",
        "  print(\"centroid  distancee between two blls\",d)\n",
        "  print(\"sum of radius ball-01 and ball -02 is: {}+{}={}\".format(r1,r2,r1+r2))\n",
        " \n",
        "  if d<=r1+r2:\n",
        "    return True\n",
        "  else:\n",
        "    return False\n",
        " \n",
        "ball_tup1=(-2,-4,3)\n",
        "ball_tup2=(4,6,3)\n",
        "if collide(ball_tup1,ball_tup2):\n",
        "    print(\"balls collides\")\n",
        "else:\n",
        "    print(\"balls not collide\")"
      ],
      "execution_count": null,
      "outputs": [
        {
          "output_type": "stream",
          "text": [
            "ball-01:  (-2, -4, 3)\n",
            "ball-02:  (4, 6, 3)\n",
            "centroid  distancee between two blls 11.661903789690601\n",
            "sum of radius ball-01 and ball -02 is: 3+3=6\n",
            "balls not collide\n"
          ],
          "name": "stdout"
        }
      ]
    },
    {
      "cell_type": "markdown",
      "metadata": {
        "id": "tzeAO1PneeI_"
      },
      "source": [
        "b) Find mean,median,mode for the given set of numbers in a list.\n",
        "𝐀𝐈𝐌:\n",
        "To Find mean,median,mode for the given set of numbers in a list.\n",
        "\n",
        "𝐃𝐄𝐒𝐂𝐑𝐈𝐏𝐓𝐈𝐎𝐍:\n",
        "Mean : The mean is the average of all numbers and is sometimes called the arithmetic mean. This code calculates Mean or Average of a list containing numbers: Median : The median is the middle number in a group of numbers. This code calculates Median of a list containing numbers: Mode : The mode is the number that occurs most often within a set of numbers. This code calculates Mode of a list containing numbers:\n",
        "\n",
        "[ ]\n"
      ]
    },
    {
      "cell_type": "code",
      "metadata": {
        "id": "08nPPKW3eeoy",
        "colab": {
          "base_uri": "https://localhost:8080/"
        },
        "outputId": "33b6aa6e-b4f4-41c9-d2fd-f7663d29fabf"
      },
      "source": [
        "def list_mean(num_list):\n",
        "   return sum(num_list)/len(num_list)\n",
        " \n",
        "def list_median(num_list):\n",
        "    num_list.sort()\n",
        "    n=len(num_list)\n",
        "    mid=n//2\n",
        "    if(n%2==1):\n",
        "        return num_list[mid]\n",
        "    else:\n",
        "        return (num_list[mid-1]+num_list[mid])/2\n",
        " \n",
        "def list_mode(num_list):\n",
        "    num_list.sort()\n",
        "    temp=[]\n",
        " \n",
        "    i=0\n",
        "    while i<len(num_list):\n",
        "        temp.append(num_list.count(num_list[i]))\n",
        "        i+=1\n",
        " \n",
        "    dic=dict(zip(num_list,temp))\n",
        "    mode={k for (k,v) in dic.items() if v==max(temp)}\n",
        "    return mode\n",
        " \n",
        "lst=[]\n",
        "n=int(input(\"Enter number of elements:\"))\n",
        "lst=[int(input()) for I in range(n)]\n",
        "print(\"mean of given list:\",list_mean(lst))\n",
        "print(\"median of given list:\",list_median(lst))\n",
        "print(\"mode of given list:\",list_mode(lst))"
      ],
      "execution_count": null,
      "outputs": [
        {
          "output_type": "stream",
          "text": [
            "Enter number of elements:6\n",
            "1\n",
            "2\n",
            "2\n",
            "2\n",
            "3\n",
            "4\n",
            "mean of given list: 2.3333333333333335\n",
            "median of given list: 2.0\n",
            "mode of given list: {2}\n"
          ],
          "name": "stdout"
        }
      ]
    },
    {
      "cell_type": "markdown",
      "metadata": {
        "id": "BOvEINDNgjwQ"
      },
      "source": [
        "EXERCISE 9-Functions-Continued\n",
        "a) Write a function nearly equal to test whether two strings are nearly equal.Two strings a and b are nearly equal when a can be generated by a single mutuation on b.\n",
        "𝐀𝐈𝐌:\n",
        "To Write a function nearly equal to test whether two strings are nearly equal.Two strings a and b are nearly equal when a can be generated by a single mutuation on b.\n",
        "\n",
        "𝐃𝐄𝐒𝐂𝐑𝐈𝐏𝐓𝐈𝐎𝐍:\n",
        "strlen() function is used to check wether the two string are nearly equal or not by basis of the Length of those Stringslen() is a built-in function in python.You can use the len() to get the length of the given string, array, list, tuple, dictionary, etc."
      ]
    },
    {
      "cell_type": "code",
      "metadata": {
        "colab": {
          "base_uri": "https://localhost:8080/"
        },
        "id": "bGViFi6igK0r",
        "outputId": "4892dbfa-9355-4fb9-9f56-d7b2da8041fb"
      },
      "source": [
        " def nearly_eq(str1,str2):\n",
        "  count=0\n",
        "  i=j=0\n",
        "  while(i<len(str1) and j<len(str2)):\n",
        "   if (str1[i]!=str2[j]):\n",
        "      count+=1\n",
        "      if(len(str1)>len(str2)):\n",
        "        i+=1\n",
        "      elif(len(str1)-len(str2)):\n",
        "         pass\n",
        "      else:\n",
        "         i-=1\n",
        "   if(count>1):\n",
        "         return False\n",
        "         i+=1\n",
        "         j+=1\n",
        "   if(count<2):\n",
        "      return True\n",
        "s1=input(\"Enter String1: \")\n",
        "s2=input(\"Enter String2: \")\n",
        "bln=nearly_eq(s1,s2)\n",
        "if(bln):\n",
        "   print(\"Strings are nearly equal.\")\n",
        "else:\n",
        "   print(\"String are NOT equal.\")"
      ],
      "execution_count": null,
      "outputs": [
        {
          "output_type": "stream",
          "text": [
            "Enter String1: Bhanu\n",
            "Enter String2: bhAnU\n",
            "Strings are nearly equal.\n"
          ],
          "name": "stdout"
        }
      ]
    },
    {
      "cell_type": "markdown",
      "metadata": {
        "id": "YDjfj7EZglJf"
      },
      "source": [
        "b) Write a function dup to find all duplicates in the list.\n",
        "𝐀𝐈𝐌:\n",
        "To Write a function dup to find all duplicates in the list.\n",
        "\n",
        "𝐃𝐄𝐒𝐂𝐑𝐈𝐏𝐓𝐈𝐎𝐍:\n",
        "Duplicates are nothing but repeated values."
      ]
    },
    {
      "cell_type": "code",
      "metadata": {
        "colab": {
          "base_uri": "https://localhost:8080/"
        },
        "id": "b4l7n1vKggl-",
        "outputId": "44c18cdf-9383-4363-f275-4f2f264a0e6a"
      },
      "source": [
        " #function to find duplicates \n",
        "def dup(lst):\n",
        "  nums=[]\n",
        "  for i in lst:\n",
        "    count=lst.count(i)\n",
        "    if count>1 and i not in nums:\n",
        "      nums.append(i)\n",
        "  print(nums)\n",
        "n=int(input(\"Enter number of elements in a list:\"))\n",
        "lst=[int(input()) for i in range(n)]\n",
        "print(\"list elements:\",lst)\n",
        "print(\"duplicate elements :\",end=\"\")\n",
        "dup(lst)"
      ],
      "execution_count": null,
      "outputs": [
        {
          "output_type": "stream",
          "text": [
            "Enter number of elements in a list:6\n",
            "1\n",
            "2\n",
            "3\n",
            "3\n",
            "2\n",
            "4\n",
            "list elements: [1, 2, 3, 3, 2, 4]\n",
            "duplicate elements :[2, 3]\n"
          ],
          "name": "stdout"
        }
      ]
    },
    {
      "cell_type": "markdown",
      "metadata": {
        "id": "HJhxz0aOhg69"
      },
      "source": [
        "c) Write a function unique to find all the unique elements of a list.\n",
        "𝐀𝐈𝐌:\n",
        "To Write a function unique to find all the unique elements of a list.\n",
        "\n",
        "𝐃𝐄𝐒𝐂𝐑𝐈𝐏𝐓𝐈𝐎𝐍:\n",
        "unique elements are which are not repeated"
      ]
    },
    {
      "cell_type": "code",
      "metadata": {
        "colab": {
          "base_uri": "https://localhost:8080/"
        },
        "id": "6Ga8ZEshhhMH",
        "outputId": "51eb43e9-c2f6-49c1-8d35-a15b22e3acf3"
      },
      "source": [
        " def Unique(lst):\n",
        "  for i in lst:\n",
        "    count=lst.count(i)\n",
        "    if count==1:\n",
        "      print(i,end=\"  \")\n",
        "n=int(input(\"Enter number of elements in a list:\"))\n",
        "lst=[int(input()) for i in range(n)]\n",
        "print(\"list elements:\",lst)\n",
        "print(\"Unique elements :\",end=\"\")\n",
        "Unique(lst)"
      ],
      "execution_count": null,
      "outputs": [
        {
          "output_type": "stream",
          "text": [
            "Enter number of elements in a list:5\n",
            "1\n",
            "2\n",
            "2\n",
            "3\n",
            "4\n",
            "list elements: [1, 2, 2, 3, 4]\n",
            "Unique elements :1  3  4  "
          ],
          "name": "stdout"
        }
      ]
    },
    {
      "cell_type": "markdown",
      "metadata": {
        "id": "5DLCg8xCh1kw"
      },
      "source": [
        "## EXERCISE 10-Functions-Problem Solving\n",
        "\n",
        "# a) Write a function cumulative product to compute cumulative product of a list of numbers.\n",
        "\n",
        "# 𝐀𝐈𝐌: \n",
        "\n",
        "To Write a function cumulative product to compute cumulative product of a list of numbers.\n",
        "\n",
        "\n",
        "# 𝐃𝐄𝐒𝐂𝐑𝐈𝐏𝐓𝐈𝐎𝐍:\n",
        "\n",
        " cumulative product is a sequence of partial products of a given sequence\n"
      ]
    },
    {
      "cell_type": "code",
      "metadata": {
        "colab": {
          "base_uri": "https://localhost:8080/"
        },
        "id": "h3vU7WDQh14B",
        "outputId": "89107653-ab96-4e0a-db25-01f88d598f14"
      },
      "source": [
        " def cumulativefrequency(lst):\n",
        "  product=1\n",
        "  for i in lst:\n",
        "    product*=i\n",
        "    temp.append(product)\n",
        "  return temp\n",
        "n=int(input(\"Enter number of elements tobe in list:\"))\n",
        "lst=[int(input()) for i in range(n)]\n",
        "temp=[]\n",
        "temp=cumulativefrequency(lst)\n",
        "print(temp)"
      ],
      "execution_count": null,
      "outputs": [
        {
          "output_type": "stream",
          "text": [
            "Enter number of elements tobe in list:4\n",
            "1\n",
            "3\n",
            "5\n",
            "7\n",
            "[1, 3, 15, 105]\n"
          ],
          "name": "stdout"
        }
      ]
    },
    {
      "cell_type": "markdown",
      "metadata": {
        "id": "pf3YbUAWiVrH"
      },
      "source": [
        " b) Write a function reverse to reverse a list. Without using the reverse function.\n",
        "𝐀𝐈𝐌:\n",
        "To write a function reverse to reverse a list. Without using the reverse function.\n",
        "\n",
        "𝐃𝐄𝐒𝐂𝐑𝐈𝐏𝐓𝐈𝐎𝐍:\n",
        "We can use a for loop to swap the first and last items, the second and the one before the last item and so on until the list is reversed in place. The number of iterations needed is half the list size. If the list has an odd number of items then the middle item will stay in its place."
      ]
    },
    {
      "cell_type": "code",
      "metadata": {
        "colab": {
          "base_uri": "https://localhost:8080/"
        },
        "id": "eCgeQKFBiWF1",
        "outputId": "21fb5028-2bce-42fd-bcab-de4031bf829d"
      },
      "source": [
        "def reverse(lst):\n",
        "  lst2=[]\n",
        "  for j in lst:\n",
        "    lst2.insert(0,j)\n",
        "  lst=lst2\n",
        "  return lst\n",
        "n=int(input(\"Enter number of elements:\"))\n",
        "lst=[int(input()) for i in range(n)]\n",
        "temp=reverse(lst)\n",
        "print(\"Reverse of list is\",temp)"
      ],
      "execution_count": null,
      "outputs": [
        {
          "output_type": "stream",
          "text": [
            "Enter number of elements:5\n",
            "1\n",
            "2\n",
            "3\n",
            "4\n",
            "5\n",
            "Reverse of list is [5, 4, 3, 2, 1]\n"
          ],
          "name": "stdout"
        }
      ]
    },
    {
      "cell_type": "markdown",
      "metadata": {
        "id": "o8swIjw9q7y4"
      },
      "source": [
        "c) Write function to compute gcd, lcm of two numbers.Each function shouldn't exceed one line.\n",
        "𝐀𝐈𝐌:\n",
        "To Write function to compute gcd, lcm of two numbers.Each function shouldn't exceed one line.\n",
        "\n",
        "𝐃𝐄𝐒𝐂𝐑𝐈𝐏𝐓𝐈𝐎𝐍:\n",
        "Python provides you an anonymous function called lambda. It can take any number of arguments, but can only have one expression. It can be used to find LCM and GCD values without exceeding each from from one line. The general format is lambda arguments: expression The expression is executed during the function call and the result is returned.\n",
        "\n"
      ]
    },
    {
      "cell_type": "code",
      "metadata": {
        "colab": {
          "base_uri": "https://localhost:8080/"
        },
        "id": "5udzYZE3rBLp",
        "outputId": "53cc6827-39ce-4d9f-c34e-d68b70222e93"
      },
      "source": [
        " gcd=lambda a,b: a if b==0 else gcd(a,a%b)\n",
        "lcm=lambda a,b: a*b/gcd(a,b)\n",
        "x=int(input(\"Enter a number:\"))\n",
        "y=int(input(\"Enter another number:\"))\n",
        "print(\"GCD:\",gcd(x,y))\n",
        "print(\"LCM:\",lcm(x,y))"
      ],
      "execution_count": null,
      "outputs": [
        {
          "output_type": "stream",
          "text": [
            "Enter a number:4\n",
            "Enter another number:24\n",
            "GCD: 4\n",
            "LCM: 24.0\n"
          ],
          "name": "stdout"
        }
      ]
    },
    {
      "cell_type": "markdown",
      "metadata": {
        "id": "8VIXuIrpjcGV"
      },
      "source": [
        " EXERCISE 11-Multi-D Lists\n",
        "a)Write a program that defines a matrix and prints.\n",
        "𝐀𝐈𝐌:\n",
        "To Write a program that defines a matrix and prints.\n",
        "\n",
        "𝐃𝐄𝐒𝐂𝐑𝐈𝐏𝐓𝐈𝐎𝐍:\n",
        "A Python matrix is a specialized two-dimensional rectangular array of data stored in rows and columns. The data in a matrix can be numbers, strings, expressions, symbols, etc. Matrix is one of the important data structures that can be used in mathematical and scientific calculations"
      ]
    },
    {
      "cell_type": "code",
      "metadata": {
        "colab": {
          "base_uri": "https://localhost:8080/"
        },
        "id": "h1l87r-8jchL",
        "outputId": "d97ac27e-d937-4781-bc85-167cdaaf3f85"
      },
      "source": [
        " matA=[[]]\n",
        "rows=int(input(\"enter no of rows\"))\n",
        "colms=int(input(\"enter colms\"))\n",
        "matA=[[int(input(\"enter  [%d,%d] value :\"%(i,j)))for j in range(colms)]for i in range(rows)]\n",
        "print(\"matrix is\\n\")\n",
        " \n",
        "for i in range(rows):\n",
        "  for j in range(colms):\n",
        "    print(matA[i][j],end=\"\\t\")\n",
        "  print()"
      ],
      "execution_count": null,
      "outputs": [
        {
          "output_type": "stream",
          "text": [
            "enter no of rows2\n",
            "enter colms2\n",
            "enter  [0,0] value :1\n",
            "enter  [0,1] value :2\n",
            "enter  [1,0] value :3\n",
            "enter  [1,1] value :4\n",
            "matrix is\n",
            "\n",
            "1\t2\t\n",
            "3\t4\t\n"
          ],
          "name": "stdout"
        }
      ]
    },
    {
      "cell_type": "markdown",
      "metadata": {
        "id": "0KVi5PvTlTZb"
      },
      "source": [
        "b) Write a program to perform addition of two square matrices.\n",
        "AIM:\n",
        "To a program to perform addition of two square matrices.\n",
        "\n",
        "𝐃𝐄𝐒𝐂𝐑𝐈𝐏𝐓𝐈𝐎𝐍:\n",
        "At each point we add the corresponding elements in the two matrices and store it in the result. Using nested list comprehension : In Python, we can implement a matrix as nested list (list inside a list). We can treat each element as a row of the matrix"
      ]
    },
    {
      "cell_type": "code",
      "metadata": {
        "id": "m-CZCCGflTuj",
        "colab": {
          "base_uri": "https://localhost:8080/"
        },
        "outputId": "5821308a-49f5-4732-958c-bcfae48602c1"
      },
      "source": [
        " def mat_read(rows,cols):\n",
        "    mat=[[int(input(\"Enter the mat[%d,%d] value \"%(i,j)))for j in range(cols)]for i in range (rows)]\n",
        "    return mat\n",
        "def print_mat(rows,cols,mat):\n",
        "    for i in range(rows):\n",
        "        for j in range (cols):\n",
        "            print(mat[i][j],end='\\t')\n",
        "        print()\n",
        "    \n",
        "matA=[[]]\n",
        "matB=[[]]\n",
        "mat_sum=[[]]\n",
        " \n",
        " \n",
        "rows=int(input(\"Enter the row size \"))\n",
        "cols=int(input(\"Enter the column size \"))\n",
        " \n",
        "if(rows==cols):\n",
        "    print(\"For matrix A\")\n",
        "    matA=mat_read(rows,cols)\n",
        "    \n",
        "    print(\"For matrix B\")\n",
        "    matB=mat_read(rows,cols)\n",
        "    \n",
        "    mat_sum=[[matA[i][j]+matB[i][j] for j in range(cols)]for i in range (rows)]\n",
        " \n",
        "    print(\"Matrix A \")\n",
        "    print_mat(rows,cols,matA)\n",
        "    \n",
        "    print(\"Matrix B \")\n",
        "    print_mat(rows,cols,matB)\n",
        "    \n",
        "    print(\"Matrix A+B = \")\n",
        "    print_mat(rows,cols,mat_sum)\n",
        "else:\n",
        "    print(\"Matrix Addition is not possible\")"
      ],
      "execution_count": null,
      "outputs": [
        {
          "output_type": "stream",
          "text": [
            "Enter the row size 2\n",
            "Enter the column size 2\n",
            "For matrix A\n",
            "Enter the mat[0,0] value 1\n",
            "Enter the mat[0,1] value 2\n",
            "Enter the mat[1,0] value 3\n",
            "Enter the mat[1,1] value 4\n",
            "For matrix B\n",
            "Enter the mat[0,0] value 1\n",
            "Enter the mat[0,1] value 2\n",
            "Enter the mat[1,0] value 3\n",
            "Enter the mat[1,1] value 4\n",
            "Matrix A \n",
            "1\t2\t\n",
            "3\t4\t\n",
            "Matrix B \n",
            "1\t2\t\n",
            "3\t4\t\n",
            "Matrix A+B = \n",
            "2\t4\t\n",
            "6\t8\t\n"
          ],
          "name": "stdout"
        }
      ]
    },
    {
      "cell_type": "markdown",
      "metadata": {
        "id": "n3jmh-SqmWFf"
      },
      "source": [
        "c)Write a program to perform multiplication of two square matrices.\n",
        "𝐀𝐈𝐌:\n",
        "To Write a program to perform multiplication of two square\n",
        "\n",
        "𝐃𝐄𝐒𝐂𝐑𝐈𝐏𝐓𝐈𝐎𝐍:\n",
        "In Python, we can implement a matrix as nested list (list inside a list). We can treat each element as a row of the matrix. For example X = [[1, 2], [4, 5], [3, 6]] would represent a 3x2 matrix. The first row can be selected as X[0]. And, the element in first row, first column can be selected as X[0][0]. Multiplication of two matrices X and Y is defined only if the number of columns in X is equal to the number of rows Y. If X is a n x m matrix and Y is a m x l matrix then, XY is defined and has the dimension n x l (but YX is not defined). Here are a couple of ways to implement matrix multiplication in Python.\n",
        "\n",
        "[ ]\n"
      ]
    },
    {
      "cell_type": "code",
      "metadata": {
        "colab": {
          "base_uri": "https://localhost:8080/"
        },
        "id": "Sq7j3PB-mWcS",
        "outputId": "bfa41a2e-d83a-4a80-81e7-c82cef84c1df"
      },
      "source": [
        " def mat_read(rows,cols):\n",
        "    mat=[[int(input(\"Enter the mat[%d,%d] value \"%(i,j)))for j in range(cols)]for i in range (rows)]\n",
        "    return mat\n",
        "def print_mat(rows,cols,mat):\n",
        "    for i in range(rows):\n",
        "        for j in range (cols):\n",
        "            print(mat[i][j],end='\\t')\n",
        "        print()\n",
        "    \n",
        "matA=[[]]\n",
        "matB=[[]]\n",
        "mat_mul=[[]]\n",
        " \n",
        " \n",
        "rows=int(input(\"Enter the row size \"))\n",
        "cols=int(input(\"Enter the column size \"))\n",
        " \n",
        "if(rows==cols):\n",
        "    print(\"For matrix A\")\n",
        "    matA=mat_read(rows,cols)\n",
        "    \n",
        "    print(\"For matrix B\")\n",
        "    matB=mat_read(rows,cols)\n",
        "    \n",
        "    mat_mul=[[0 for j in range(cols)]for i in range (rows)]\n",
        " \n",
        "    for i in range (rows):\n",
        "        for j in range(cols):\n",
        "            for k in range(cols):\n",
        "                mat_mul[i][j]+=matA[i][k]*matB[k][j]\n",
        " \n",
        "    print(\"Matrix A \")\n",
        "    print_mat(rows,cols,matA)\n",
        "    \n",
        "    print(\"Matrix B \")\n",
        "    print_mat(rows,cols,matB)\n",
        "    \n",
        "    print(\"Matrix A*B = \")\n",
        "    print_mat(rows,cols,mat_mul)\n",
        "else:\n",
        "    print(\"Matrix multiplication is not possible\")"
      ],
      "execution_count": null,
      "outputs": [
        {
          "output_type": "stream",
          "text": [
            "Enter the row size 2\n",
            "Enter the column size 2\n",
            "For matrix A\n",
            "Enter the mat[0,0] value 1\n",
            "Enter the mat[0,1] value 2\n",
            "Enter the mat[1,0] value 3\n",
            "Enter the mat[1,1] value 4\n",
            "For matrix B\n",
            "Enter the mat[0,0] value 1\n",
            "Enter the mat[0,1] value 0\n",
            "Enter the mat[1,0] value 0\n",
            "Enter the mat[1,1] value 1\n",
            "Matrix A \n",
            "1\t2\t\n",
            "3\t4\t\n",
            "Matrix B \n",
            "1\t0\t\n",
            "0\t1\t\n",
            "Matrix A*B = \n",
            "1\t2\t\n",
            "3\t4\t\n"
          ],
          "name": "stdout"
        }
      ]
    },
    {
      "cell_type": "markdown",
      "metadata": {
        "id": "vniTDxqfnVjU"
      },
      "source": [
        "EXERCISE 12-Modules\n",
        "a)Install packages reaquests,flask and explore them.using(pip)\n",
        "Open cmd and set python installation path Check pip is installed or not by>pip\n",
        "\n",
        "requests and flask\n",
        "pip install requests pip install flask\n",
        "\n",
        "for exploration\n",
        "pip show requests pip show flask (It shows name, version and other properties)"
      ]
    },
    {
      "cell_type": "code",
      "metadata": {
        "colab": {
          "base_uri": "https://localhost:8080/"
        },
        "id": "JIqzGxihdAOq",
        "outputId": "b0a7fa9a-e98a-4e43-96c1-26688edf0b40"
      },
      "source": [
        "!pip install requests"
      ],
      "execution_count": null,
      "outputs": [
        {
          "output_type": "stream",
          "name": "stdout",
          "text": [
            "Requirement already satisfied: requests in /usr/local/lib/python3.7/dist-packages (2.23.0)\n",
            "Requirement already satisfied: certifi>=2017.4.17 in /usr/local/lib/python3.7/dist-packages (from requests) (2021.5.30)\n",
            "Requirement already satisfied: idna<3,>=2.5 in /usr/local/lib/python3.7/dist-packages (from requests) (2.10)\n",
            "Requirement already satisfied: urllib3!=1.25.0,!=1.25.1,<1.26,>=1.21.1 in /usr/local/lib/python3.7/dist-packages (from requests) (1.24.3)\n",
            "Requirement already satisfied: chardet<4,>=3.0.2 in /usr/local/lib/python3.7/dist-packages (from requests) (3.0.4)\n"
          ]
        }
      ]
    },
    {
      "cell_type": "code",
      "metadata": {
        "colab": {
          "base_uri": "https://localhost:8080/"
        },
        "id": "vvzcxaXkdAcf",
        "outputId": "28a11c56-f6cb-49da-a9eb-c2b7b196790f"
      },
      "source": [
        "!pip show requests"
      ],
      "execution_count": null,
      "outputs": [
        {
          "output_type": "stream",
          "name": "stdout",
          "text": [
            "Name: requests\n",
            "Version: 2.23.0\n",
            "Summary: Python HTTP for Humans.\n",
            "Home-page: https://requests.readthedocs.io\n",
            "Author: Kenneth Reitz\n",
            "Author-email: me@kennethreitz.org\n",
            "License: Apache 2.0\n",
            "Location: /usr/local/lib/python3.7/dist-packages\n",
            "Requires: chardet, idna, certifi, urllib3\n",
            "Required-by: tweepy, torchtext, tensorflow-datasets, tensorboard, Sphinx, spacy, requests-oauthlib, pymystem3, pooch, panel, pandas-datareader, kaggle, gspread, google-colab, google-api-core, gdown, folium, fix-yahoo-finance, fastai, coveralls, community, CacheControl\n"
          ]
        }
      ]
    },
    {
      "cell_type": "code",
      "metadata": {
        "colab": {
          "base_uri": "https://localhost:8080/"
        },
        "id": "eTQQmxheoxli",
        "outputId": "d5a36f13-34e7-46ce-a205-535f228730a9"
      },
      "source": [
        " !pip install requests"
      ],
      "execution_count": null,
      "outputs": [
        {
          "output_type": "stream",
          "name": "stdout",
          "text": [
            "Requirement already satisfied: requests in /usr/local/lib/python3.7/dist-packages (2.23.0)\n",
            "Requirement already satisfied: idna<3,>=2.5 in /usr/local/lib/python3.7/dist-packages (from requests) (2.10)\n",
            "Requirement already satisfied: urllib3!=1.25.0,!=1.25.1,<1.26,>=1.21.1 in /usr/local/lib/python3.7/dist-packages (from requests) (1.24.3)\n",
            "Requirement already satisfied: chardet<4,>=3.0.2 in /usr/local/lib/python3.7/dist-packages (from requests) (3.0.4)\n",
            "Requirement already satisfied: certifi>=2017.4.17 in /usr/local/lib/python3.7/dist-packages (from requests) (2021.5.30)\n"
          ]
        }
      ]
    },
    {
      "cell_type": "code",
      "metadata": {
        "colab": {
          "base_uri": "https://localhost:8080/"
        },
        "id": "5FFt9PMHdRm2",
        "outputId": "c7d38c8b-e8f3-48a1-d61e-15ed5da0e575"
      },
      "source": [
        "!pip show flask"
      ],
      "execution_count": null,
      "outputs": [
        {
          "output_type": "stream",
          "name": "stdout",
          "text": [
            "Name: Flask\n",
            "Version: 1.1.4\n",
            "Summary: A simple framework for building complex web applications.\n",
            "Home-page: https://palletsprojects.com/p/flask/\n",
            "Author: Armin Ronacher\n",
            "Author-email: armin.ronacher@active-4.com\n",
            "License: BSD-3-Clause\n",
            "Location: /usr/local/lib/python3.7/dist-packages\n",
            "Requires: itsdangerous, Jinja2, Werkzeug, click\n",
            "Required-by: community\n"
          ]
        }
      ]
    },
    {
      "cell_type": "markdown",
      "metadata": {
        "id": "ykuWpiRidfIC"
      },
      "source": [
        "b) Write a script that imports requests and fetch content from the page.Eg.(Wiki).\n",
        "𝐀𝐈𝐌:\n",
        "Write a scripts that imports requests and fetch content from the page.Eg. (Wiki)code.\n",
        "\n",
        "𝐃𝐄𝐒𝐂𝐑𝐈𝐏𝐓𝐈𝐎𝐍:\n",
        "The Hypertext Transfer Protocol (HTTP) is an application protocol for distributed, collaborative, hypermedia information systems. HTTP is the foundation of data communication for the World Wide Web. Python requests Requests is a simple and elegant Python HTTP library. It provides methods for accessing Web resources via HTTP. Python requests reading a web page The get() method issues a GET request; it fetches documents identified by the given URL.\n",
        "\n",
        "[ ]"
      ]
    },
    {
      "cell_type": "code",
      "metadata": {
        "colab": {
          "base_uri": "https://localhost:8080/"
        },
        "id": "MtyBwlpFdkVk",
        "outputId": "a1c2b861-551d-484b-8b85-07e158cff454"
      },
      "source": [
        "import requests\n",
        "r=requests.get('https://www.google.com')\n",
        "print(\"Status code:\",r.status_code)\n",
        "print(\"Header Content:\",r.headers['content-type'])\n",
        "print(r.text)"
      ],
      "execution_count": null,
      "outputs": [
        {
          "output_type": "stream",
          "name": "stdout",
          "text": [
            "Status code: 200\n",
            "Header Content: text/html; charset=ISO-8859-1\n",
            "<!doctype html><html itemscope=\"\" itemtype=\"http://schema.org/WebPage\" lang=\"en\"><head><meta content=\"Search the world's information, including webpages, images, videos and more. Google has many special features to help you find exactly what you're looking for.\" name=\"description\"><meta content=\"noodp\" name=\"robots\"><meta content=\"text/html; charset=UTF-8\" http-equiv=\"Content-Type\"><meta content=\"/logos/doodles/2021/labor-day-2021-6753651837109056.2-l.png\" itemprop=\"image\"><meta content=\"Labor Day 2021\" property=\"twitter:title\"><meta content=\"Labor Day 2021 #GoogleDoodle\" property=\"twitter:description\"><meta content=\"Labor Day 2021 #GoogleDoodle\" property=\"og:description\"><meta content=\"summary_large_image\" property=\"twitter:card\"><meta content=\"@GoogleDoodles\" property=\"twitter:site\"><meta content=\"https://www.google.com/logos/doodles/2021/labor-day-2021-6753651837109056.2-2x.png\" property=\"twitter:image\"><meta content=\"https://www.google.com/logos/doodles/2021/labor-day-2021-6753651837109056.2-2x.png\" property=\"og:image\"><meta content=\"1000\" property=\"og:image:width\"><meta content=\"400\" property=\"og:image:height\"><title>Google</title><script nonce=\"RUIBq5/DVoq3iGn8xMTP/Q==\">(function(){window.google={kEI:'JeE1YZa3DLGdwbkPpparqA8',kEXPI:'0,772215,1,530320,56873,954,5105,206,4804,926,1390,383,246,5,1354,4936,315,1122515,1197770,513,118,328866,51224,16114,19397,9287,17572,4859,1361,9291,3022,17586,4020,978,13228,3847,10622,1142,17903,2777,919,5081,1593,1279,2212,530,149,1103,840,1983,214,4100,109,3405,606,2023,1777,520,14670,3227,1989,856,7,5599,6755,5096,7539,6857,1924,908,2,941,15324,432,3,1590,1,5444,149,11323,2652,4,1528,2304,1236,5803,74,1983,2627,2014,3791,7710,2110,1714,3050,2658,6536,821,30,1677,2201,9750,1592,713,638,37,1457,5586,3772,5993,1435,2522,3302,2533,4094,20,3118,6,908,3,3541,1,5349,9361,1,1813,283,913,5991,12346,2313,19,769,8,1,1272,1344,371,2,3057,6155,627,4,32,4,5387,4,683,442,342,255,55,4,434,2500,1557,744,2810,3042,1576,3,472,8412,1160,1269,1051,384,777,2715,2,211,291,2380,2719,3708,2,835,3,125,15,5333,360,3789,486,1214,2408,1,8,176,2,790,6768,1932,190,2445,1597,981,369,2751,561,4,5363,1265,91,1,806,1660,49,259,335,664,3,535,257,684,41,2,1629,614,25,4,7,58,1166,272,53,695,140,1091,83,447,67,27,23,32,1,58,314,36,866,321,783,672,2145,4,1,55,98,242,1114,188,78,1677,432,472,111,239,17,71,4,908,291,363,31,84,1246,2,690,1,1,104,2329,7,5582247,226,220,73,206,4,5996585,2800697,882,444,1,2,80,1,1796,1,9,2553,1,748,141,795,563,1,4265,1,1,2,1331,4142,2609,155,17,13,72,139,4,2,20,2,169,13,19,46,5,39,96,548,29,2,2,1,2,1,2,2,7,4,1,2,2,2,2,2,2,353,513,186,1,1,158,3,2,2,2,2,2,4,2,3,3,269,291,53,29,20,17,39,20,5,16,11,4,21,23654332,299864,4041352,277,61,3,2414,448,2,89,374,172,406,9,3356,1421,991',kBL:'94Ui'};google.sn='webhp';google.kHL='en';})();(function(){\n",
            "var f=this||self;var h,k=[];function l(a){for(var b;a&&(!a.getAttribute||!(b=a.getAttribute(\"eid\")));)a=a.parentNode;return b||h}function m(a){for(var b=null;a&&(!a.getAttribute||!(b=a.getAttribute(\"leid\")));)a=a.parentNode;return b}\n",
            "function n(a,b,c,d,g){var e=\"\";c||-1!==b.search(\"&ei=\")||(e=\"&ei=\"+l(d),-1===b.search(\"&lei=\")&&(d=m(d))&&(e+=\"&lei=\"+d));d=\"\";!c&&f._cshid&&-1===b.search(\"&cshid=\")&&\"slh\"!==a&&(d=\"&cshid=\"+f._cshid);c=c||\"/\"+(g||\"gen_204\")+\"?atyp=i&ct=\"+a+\"&cad=\"+b+e+\"&zx=\"+Date.now()+d;/^http:/i.test(c)&&\"https:\"===window.location.protocol&&(google.ml&&google.ml(Error(\"a\"),!1,{src:c,glmm:1}),c=\"\");return c};h=google.kEI;google.getEI=l;google.getLEI=m;google.ml=function(){return null};google.log=function(a,b,c,d,g){if(c=n(a,b,c,d,g)){a=new Image;var e=k.length;k[e]=a;a.onerror=a.onload=a.onabort=function(){delete k[e]};a.src=c}};google.logUrl=n;}).call(this);(function(){\n",
            "google.y={};google.sy=[];google.x=function(a,b){if(a)var c=a.id;else{do c=Math.random();while(google.y[c])}google.y[c]=[a,b];return!1};google.sx=function(a){google.sy.push(a)};google.lm=[];google.plm=function(a){google.lm.push.apply(google.lm,a)};google.lq=[];google.load=function(a,b,c){google.lq.push([[a],b,c])};google.loadAll=function(a,b){google.lq.push([a,b])};google.bx=!1;google.lx=function(){};}).call(this);google.f={};(function(){\n",
            "document.documentElement.addEventListener(\"submit\",function(b){var a;if(a=b.target){var c=a.getAttribute(\"data-submitfalse\");a=\"1\"==c||\"q\"==c&&!a.elements.q.value?!0:!1}else a=!1;a&&(b.preventDefault(),b.stopPropagation())},!0);document.documentElement.addEventListener(\"click\",function(b){var a;a:{for(a=b.target;a&&a!=document.documentElement;a=a.parentElement)if(\"A\"==a.tagName){a=\"1\"==a.getAttribute(\"data-nohref\");break a}a=!1}a&&b.preventDefault()},!0);}).call(this);</script><style>#gbar,#guser{font-size:13px;padding-top:1px !important;}#gbar{height:22px}#guser{padding-bottom:7px !important;text-align:right}.gbh,.gbd{border-top:1px solid #c9d7f1;font-size:1px}.gbh{height:0;position:absolute;top:24px;width:100%}@media all{.gb1{height:22px;margin-right:.5em;vertical-align:top}#gbar{float:left}}a.gb1,a.gb4{text-decoration:underline !important}a.gb1,a.gb4{color:#00c !important}.gbi .gb4{color:#dd8e27 !important}.gbf .gb4{color:#900 !important}\n",
            "</style><style>body,td,a,p,.h{font-family:arial,sans-serif}body{margin:0;overflow-y:scroll}#gog{padding:3px 8px 0}td{line-height:.8em}.gac_m td{line-height:17px}form{margin-bottom:20px}.h{color:#1558d6}em{font-weight:bold;font-style:normal}.lst{height:25px;width:496px}.gsfi,.lst{font:18px arial,sans-serif}.gsfs{font:17px arial,sans-serif}.ds{display:inline-box;display:inline-block;margin:3px 0 4px;margin-left:4px}input{font-family:inherit}body{background:#fff;color:#000}a{color:#4b11a8;text-decoration:none}a:hover,a:active{text-decoration:underline}.fl a{color:#1558d6}a:visited{color:#4b11a8}.sblc{padding-top:5px}.sblc a{display:block;margin:2px 0;margin-left:13px;font-size:11px}.lsbb{background:#f8f9fa;border:solid 1px;border-color:#dadce0 #70757a #70757a #dadce0;height:30px}.lsbb{display:block}#WqQANb a{display:inline-block;margin:0 12px}.lsb{background:url(/images/nav_logo229.png) 0 -261px repeat-x;border:none;color:#000;cursor:pointer;height:30px;margin:0;outline:0;font:15px arial,sans-serif;vertical-align:top}.lsb:active{background:#dadce0}.lst:focus{outline:none}</style><script nonce=\"RUIBq5/DVoq3iGn8xMTP/Q==\"></script></head><body bgcolor=\"#fff\"><script nonce=\"RUIBq5/DVoq3iGn8xMTP/Q==\">(function(){var src='/images/nav_logo229.png';var iesg=false;document.body.onload = function(){window.n && window.n();if (document.images){new Image().src=src;}\n",
            "if (!iesg){document.f&&document.f.q.focus();document.gbqf&&document.gbqf.q.focus();}\n",
            "}\n",
            "})();</script><div id=\"mngb\"><div id=gbar><nobr><b class=gb1>Search</b> <a class=gb1 href=\"https://www.google.com/imghp?hl=en&tab=wi\">Images</a> <a class=gb1 href=\"https://maps.google.com/maps?hl=en&tab=wl\">Maps</a> <a class=gb1 href=\"https://play.google.com/?hl=en&tab=w8\">Play</a> <a class=gb1 href=\"https://www.youtube.com/?gl=US&tab=w1\">YouTube</a> <a class=gb1 href=\"https://news.google.com/?tab=wn\">News</a> <a class=gb1 href=\"https://mail.google.com/mail/?tab=wm\">Gmail</a> <a class=gb1 href=\"https://drive.google.com/?tab=wo\">Drive</a> <a class=gb1 style=\"text-decoration:none\" href=\"https://www.google.com/intl/en/about/products?tab=wh\"><u>More</u> &raquo;</a></nobr></div><div id=guser width=100%><nobr><span id=gbn class=gbi></span><span id=gbf class=gbf></span><span id=gbe></span><a href=\"http://www.google.com/history/optout?hl=en\" class=gb4>Web History</a> | <a  href=\"/preferences?hl=en\" class=gb4>Settings</a> | <a target=_top id=gb_70 href=\"https://accounts.google.com/ServiceLogin?hl=en&passive=true&continue=https://www.google.com/&ec=GAZAAQ\" class=gb4>Sign in</a></nobr></div><div class=gbh style=left:0></div><div class=gbh style=right:0></div></div><center><br clear=\"all\" id=\"lgpd\"><div id=\"lga\"><a href=\"/search?ie=UTF-8&amp;q=Labor+Day&amp;oi=ddle&amp;ct=174788297&amp;hl=en&amp;sa=X&amp;ved=0ahUKEwjW3ceVhuryAhWxTjABHSbLCvUQPQgD\"><img alt=\"Labor Day 2021\" border=\"0\" height=\"200\" src=\"/logos/doodles/2021/labor-day-2021-6753651837109056.2-l.png\" title=\"Labor Day 2021\" width=\"500\" id=\"hplogo\"><br></a><br></div><form action=\"/search\" name=\"f\"><table cellpadding=\"0\" cellspacing=\"0\"><tr valign=\"top\"><td width=\"25%\">&nbsp;</td><td align=\"center\" nowrap=\"\"><input name=\"ie\" value=\"ISO-8859-1\" type=\"hidden\"><input value=\"en\" name=\"hl\" type=\"hidden\"><input name=\"source\" type=\"hidden\" value=\"hp\"><input name=\"biw\" type=\"hidden\"><input name=\"bih\" type=\"hidden\"><div class=\"ds\" style=\"height:32px;margin:4px 0\"><input class=\"lst\" style=\"margin:0;padding:5px 8px 0 6px;vertical-align:top;color:#000\" autocomplete=\"off\" value=\"\" title=\"Google Search\" maxlength=\"2048\" name=\"q\" size=\"57\"></div><br style=\"line-height:0\"><span class=\"ds\"><span class=\"lsbb\"><input class=\"lsb\" value=\"Google Search\" name=\"btnG\" type=\"submit\"></span></span><span class=\"ds\"><span class=\"lsbb\"><input class=\"lsb\" id=\"tsuid1\" value=\"I'm Feeling Lucky\" name=\"btnI\" type=\"submit\"><script nonce=\"RUIBq5/DVoq3iGn8xMTP/Q==\">(function(){var id='tsuid1';document.getElementById(id).onclick = function(){if (this.form.q.value){this.checked = 1;if (this.form.iflsig)this.form.iflsig.disabled = false;}\n",
            "else top.location='/doodles/';};})();</script><input value=\"ALs-wAMAAAAAYTXvNUJH21qKBYlbkkQQKK1DKC9gop5E\" name=\"iflsig\" type=\"hidden\"></span></span></td><td class=\"fl sblc\" align=\"left\" nowrap=\"\" width=\"25%\"><a href=\"/advanced_search?hl=en&amp;authuser=0\">Advanced search</a></td></tr></table><input id=\"gbv\" name=\"gbv\" type=\"hidden\" value=\"1\"><script nonce=\"RUIBq5/DVoq3iGn8xMTP/Q==\">(function(){\n",
            "var a,b=\"1\";if(document&&document.getElementById)if(\"undefined\"!=typeof XMLHttpRequest)b=\"2\";else if(\"undefined\"!=typeof ActiveXObject){var c,d,e=[\"MSXML2.XMLHTTP.6.0\",\"MSXML2.XMLHTTP.3.0\",\"MSXML2.XMLHTTP\",\"Microsoft.XMLHTTP\"];for(c=0;d=e[c++];)try{new ActiveXObject(d),b=\"2\"}catch(h){}}a=b;if(\"2\"==a&&-1==location.search.indexOf(\"&gbv=2\")){var f=google.gbvu,g=document.getElementById(\"gbv\");g&&(g.value=a);f&&window.setTimeout(function(){location.href=f},0)};}).call(this);</script></form><div id=\"gac_scont\"></div><div style=\"font-size:83%;min-height:3.5em\"><br></div><span id=\"footer\"><div style=\"font-size:10pt\"><div style=\"margin:19px auto;text-align:center\" id=\"WqQANb\"><a href=\"/intl/en/ads/\">Advertising Programs</a><a href=\"/services/\">Business Solutions</a><a href=\"/intl/en/about.html\">About Google</a></div></div><p style=\"font-size:8pt;color:#70757a\">&copy; 2021 - <a href=\"/intl/en/policies/privacy/\">Privacy</a> - <a href=\"/intl/en/policies/terms/\">Terms</a></p></span></center><script nonce=\"RUIBq5/DVoq3iGn8xMTP/Q==\">(function(){window.google.cdo={height:757,width:1440};(function(){\n",
            "var a=window.innerWidth,b=window.innerHeight;if(!a||!b){var c=window.document,d=\"CSS1Compat\"==c.compatMode?c.documentElement:c.body;a=d.clientWidth;b=d.clientHeight}a&&b&&(a!=google.cdo.width||b!=google.cdo.height)&&google.log(\"\",\"\",\"/client_204?&atyp=i&biw=\"+a+\"&bih=\"+b+\"&ei=\"+google.kEI);}).call(this);})();</script> <script nonce=\"RUIBq5/DVoq3iGn8xMTP/Q==\">(function(){google.xjs={ck:'',cs:'',excm:[]};})();</script>  <script nonce=\"RUIBq5/DVoq3iGn8xMTP/Q==\">(function(){var u='/xjs/_/js/k\\x3dxjs.hp.en_US.uJVE4aH5PNY.O/am\\x3dAPgEWA/d\\x3d1/ed\\x3d1/rs\\x3dACT90oHMCNW-abUb8NKgcji0KPjTPcrpeg/m\\x3dsb_he,d';\n",
            "var e=this||self,f=function(a){return a};var g;var l=function(a,b){this.g=b===h?a:\"\"};l.prototype.toString=function(){return this.g+\"\"};var h={};function m(){var a=u;google.lx=function(){n(a);google.lx=function(){}};google.bx||google.lx()}\n",
            "function n(a){google.timers&&google.timers.load&&google.tick&&google.tick(\"load\",\"xjsls\");var b=document;var c=\"SCRIPT\";\"application/xhtml+xml\"===b.contentType&&(c=c.toLowerCase());c=b.createElement(c);if(void 0===g){b=null;var k=e.trustedTypes;if(k&&k.createPolicy){try{b=k.createPolicy(\"goog#html\",{createHTML:f,createScript:f,createScriptURL:f})}catch(p){e.console&&e.console.error(p.message)}g=b}else g=b}a=(b=g)?b.createScriptURL(a):a;a=new l(a,h);c.src=a instanceof l&&a.constructor===l?a.g:\"type_error:TrustedResourceUrl\";var d;a=(c.ownerDocument&&c.ownerDocument.defaultView||window).document;(d=(b=null===(d=a.querySelector)||void 0===d?void 0:d.call(a,\"script[nonce]\"))?b.nonce||b.getAttribute(\"nonce\")||\"\":\"\")&&c.setAttribute(\"nonce\",d);document.body.appendChild(c);google.psa=!0};setTimeout(function(){m()},0);})();(function(){window.google.xjsu='/xjs/_/js/k\\x3dxjs.hp.en_US.uJVE4aH5PNY.O/am\\x3dAPgEWA/d\\x3d1/ed\\x3d1/rs\\x3dACT90oHMCNW-abUb8NKgcji0KPjTPcrpeg/m\\x3dsb_he,d';})();function _DumpException(e){throw e;}\n",
            "function _F_installCss(c){}\n",
            "(function(){google.jl={attn:false,blt:'none',chnk:0,dw:false,emtn:0,end:0,ine:false,lls:'default',pdt:0,rep:0,sif:true,snet:true,strt:0,ubm:false,uwp:true};})();(function(){var pmc='{\\x22d\\x22:{},\\x22sb_he\\x22:{\\x22agen\\x22:true,\\x22cgen\\x22:true,\\x22client\\x22:\\x22heirloom-hp\\x22,\\x22dh\\x22:true,\\x22dhqt\\x22:true,\\x22ds\\x22:\\x22\\x22,\\x22ffql\\x22:\\x22en\\x22,\\x22fl\\x22:true,\\x22host\\x22:\\x22google.com\\x22,\\x22isbh\\x22:28,\\x22jsonp\\x22:true,\\x22msgs\\x22:{\\x22cibl\\x22:\\x22Clear Search\\x22,\\x22dym\\x22:\\x22Did you mean:\\x22,\\x22lcky\\x22:\\x22I\\\\u0026#39;m Feeling Lucky\\x22,\\x22lml\\x22:\\x22Learn more\\x22,\\x22oskt\\x22:\\x22Input tools\\x22,\\x22psrc\\x22:\\x22This search was removed from your \\\\u003Ca href\\x3d\\\\\\x22/history\\\\\\x22\\\\u003EWeb History\\\\u003C/a\\\\u003E\\x22,\\x22psrl\\x22:\\x22Remove\\x22,\\x22sbit\\x22:\\x22Search by image\\x22,\\x22srch\\x22:\\x22Google Search\\x22},\\x22ovr\\x22:{},\\x22pq\\x22:\\x22\\x22,\\x22refpd\\x22:true,\\x22rfs\\x22:[],\\x22sbas\\x22:\\x220 3px 8px 0 rgba(0,0,0,0.2),0 0 0 1px rgba(0,0,0,0.08)\\x22,\\x22sbpl\\x22:16,\\x22sbpr\\x22:16,\\x22scd\\x22:10,\\x22stok\\x22:\\x22hXhqVS1BYjs5j3VTM7Is9lKjA0I\\x22,\\x22uhde\\x22:false}}';google.pmc=JSON.parse(pmc);})();</script>        </body></html>\n"
          ]
        }
      ]
    },
    {
      "cell_type": "markdown",
      "metadata": {
        "id": "xqvp9UkznWGh"
      },
      "source": [
        "c) Write a simple script that serves a simple HTTPResonse nd a simple HTML Page.\n",
        "𝐀𝐈𝐌:\n",
        "\n",
        "To Write a simple script that serves a simple HTTPResponse and Simple HTML page.\n",
        "\n",
        "𝐃𝐄𝐒𝐂𝐑𝐈𝐏𝐓𝐈𝐎𝐍:\n",
        "\n",
        "HTTP Protocol The most important part of a web server is HTTP protocol.So now we will see what exactly this is – It stands for Hyper Text Transfer Protocol. It is an application layer protocol that allows web based applications to communicate and exchange data. The HTTP is the messenger of web. The computer that communicate via the HTTP must speak the HTTP protocol. It is a TCP/IP based protocol. It is used to deliver contents, for eg. images, audios, videos, documents etc. Using HTTP is the most convenient way to quickly and reliably move data on the web. HTML stands for hypertext markup language. It is the standard markup language for web pages that define the structure of the content. These elements are the building blocks of any website\n",
        "\n"
      ]
    },
    {
      "cell_type": "code",
      "metadata": {
        "colab": {
          "base_uri": "https://localhost:8080/"
        },
        "id": "mKGmxpKjpBT6",
        "outputId": "af263d5c-f2b6-4e9c-fe0b-95ff19e50fc0"
      },
      "source": [
        " from flask import Flask,render_template\n",
        "app=Flask(__name__)\n",
        "print(app)\n",
        "@app.route(\"/\")\n",
        "def main():\n",
        "  return render_template('login.html')\n",
        "  if __name__==\"__main__\":\n",
        "    app.run(host=\"127.0.0.1\",port=2500)"
      ],
      "execution_count": null,
      "outputs": [
        {
          "output_type": "stream",
          "name": "stdout",
          "text": [
            "<Flask '__main__'>\n"
          ]
        }
      ]
    },
    {
      "cell_type": "markdown",
      "metadata": {
        "id": "AmeJEYtzpWba"
      },
      "source": [
        "EXERCISE 13-OOP\n",
        "a)Class variables and instance variable and illustration of the self-variable\n",
        "i) Robot\n",
        "𝐀𝐈𝐌:\n",
        "\n",
        "To write class variables and instance variable and illustration of the self -variable.\n",
        "\n",
        "𝐃𝐄𝐒𝐂𝐑𝐈𝐏𝐓𝐈𝐎𝐍:\n",
        "\n",
        "class variableis shared by all object instances of a class.....They are not defined inside any methods of a class. Because a class variable is shared by instances of a class, the Python class owns the variable. As a result, all instances of the class will be able to access that variable Instance variables are owned by instances of the class. This means that for each object or instance of a class, the instance variables are different..... Instance variables, owned by objects of the class, allow for each object or instance to have different values assigned to those variables self variable is used to bind the instance of the class to the instance method. We have to explicitly declare it as the first method argument to access the instance variables and methods. This variable is used only with the instance methods."
      ]
    },
    {
      "cell_type": "code",
      "metadata": {
        "colab": {
          "base_uri": "https://localhost:8080/"
        },
        "id": "BNFEP8LqpP7P",
        "outputId": "022334a3-2a8d-4169-f967-5c8fc273a719"
      },
      "source": [
        "#1.Robot \n",
        "class Robot:\n",
        "  what=\"machine\"\n",
        "  name=\"chitti\"\n",
        "  version=1.0\n",
        "  speed=\"1THz\"\n",
        "  memory=\"1ZB\"\n",
        " \n",
        "  def update(upd):\n",
        "    upd.version=2.0\n",
        "    upd.speed=\"2THz\"\n",
        "    memory=\"2ZB\"\n",
        " \n",
        "  def disp(self):\n",
        "    print(\"My self is a\",robj.what)\n",
        "    print(\"my name is a\",robj.name)\n",
        "    print(\"version:\",robj.version)\n",
        "    print(\"speed:\",robj.speed)\n",
        "    print(\"memory:\",robj.memory)\n",
        " \n",
        "robj=Robot()\n",
        "robj.disp()\n",
        "print(\"--------Update-----------\")\n",
        "robj.update()\n",
        "robj.disp()"
      ],
      "execution_count": null,
      "outputs": [
        {
          "output_type": "stream",
          "text": [
            "My self is a machine\n",
            "my name is a chitti\n",
            "version: 1.0\n",
            "speed: 1THz\n",
            "memory: 1ZB\n",
            "--------Update-----------\n",
            "My self is a machine\n",
            "my name is a chitti\n",
            "version: 2.0\n",
            "speed: 2THz\n",
            "memory: 1ZB\n"
          ],
          "name": "stdout"
        }
      ]
    },
    {
      "cell_type": "code",
      "metadata": {
        "colab": {
          "base_uri": "https://localhost:8080/"
        },
        "id": "92nsc4tdqXb8",
        "outputId": "95ddac23-ee34-45bb-d79a-999178f3dc9b"
      },
      "source": [
        " class ATM:\n",
        "  def __init__(self):\n",
        "    self.balance=0\n",
        "  \n",
        "  def enquire(self):\n",
        "    print(\"balance is:\",self.balance)\n",
        " \n",
        "  def deposit(self):\n",
        "    amount=int(input(\"enter amount to depposit:\"))\n",
        "    self.balance+=amount\n",
        "    self.enquire()\n",
        " \n",
        "  def withdraw(self):\n",
        "    amount=int(input(\"enter amount to withdraw:\"))\n",
        "    if self.balance<amount:\n",
        "      print(\"ammount is insufficient\")\n",
        "    else:\n",
        "      self.balance-=amount\n",
        "      self.enquire()\n",
        "obj=ATM()\n",
        "while(True):\n",
        "  print(\"****MENU*****\")\n",
        "  print(\"1.deposit\")\n",
        "  print(\"2.withdraw\")\n",
        "  print(\"3.Balance\")\n",
        "  print(\"0.exit\")\n",
        "  ch=int(input(\"enter your choice\"))\n",
        "  if ch==0:\n",
        "    break\n",
        "  elif ch==1:\n",
        "    obj.deposit()\n",
        "  elif ch==2:\n",
        "    obj.withdraw()\n",
        "  elif ch==3:\n",
        "    obj.enquire()\n",
        "  else:\n",
        "    print(\"ivalid option\")\n",
        "    pass"
      ],
      "execution_count": null,
      "outputs": [
        {
          "output_type": "stream",
          "text": [
            "****MENU*****\n",
            "1.deposit\n",
            "2.withdraw\n",
            "3.Balance\n",
            "0.exit\n",
            "enter your choice1\n",
            "enter amount to depposit:10000\n",
            "balance is: 10000\n",
            "****MENU*****\n",
            "1.deposit\n",
            "2.withdraw\n",
            "3.Balance\n",
            "0.exit\n",
            "enter your choice3\n",
            "balance is: 10000\n",
            "****MENU*****\n",
            "1.deposit\n",
            "2.withdraw\n",
            "3.Balance\n",
            "0.exit\n",
            "enter your choice2\n",
            "enter amount to withdraw:9000\n",
            "balance is: 1000\n",
            "****MENU*****\n",
            "1.deposit\n",
            "2.withdraw\n",
            "3.Balance\n",
            "0.exit\n",
            "enter your choice0\n"
          ],
          "name": "stdout"
        }
      ]
    },
    {
      "cell_type": "markdown",
      "metadata": {
        "id": "ZuT8BMEjq_7A"
      },
      "source": [
        "EXERCISE 14-GUI,Graphics\n",
        "a)Write a GUI for an Expression Calculaor using tk.\n",
        "𝐀𝐈𝐌:\n",
        "\n",
        "To write a program for calculator using gui.\n",
        "\n",
        "𝐃𝐄𝐒𝐂𝐑𝐈𝐏𝐓𝐈𝐎𝐍:\n",
        "\n",
        "Tkinter is a Python package which comes with many functions and methods that can be used to create an application. In order to create a tkinter application, we generally create an instance of tkinter frame, i.e., Tk(). It helps to display the root window and manages all the other components of the tkinter application. We can initialize the tkinter instance by assigning the variable to it."
      ]
    },
    {
      "cell_type": "code",
      "metadata": {
        "id": "yTFpeXtkfSEw"
      },
      "source": [
        "from tkinter import*\n",
        "win=Tk()\n",
        "win.geometry(\"312x324\")\n",
        "win.resizable(0,0)\n",
        "win.title(\"My Calculator\")\n",
        "\n",
        "#updates the input field whenever you enters a number \n",
        "def btn_click(item):\n",
        "  global expression\n",
        "  expressiom=expression+str(item)\n",
        "  input_text.set(expression)\n",
        "\n",
        "#'bt_clear' function:This is used to clear the input field\n",
        "def bt_clear():\n",
        "  global expression\n",
        "  expressin=\"\"\n",
        "  input_text.self(\"\")\n",
        "\n",
        "#caLculates the expression present in input field\n",
        "def bt_equal():\n",
        "  global expression\n",
        "  result=str(eval(expression))\n",
        "  input_text.self(result)\n",
        "  expression=\"\"\n",
        "expression=\"\"\n",
        "\n",
        "#to get the instance of input field\n",
        "input_text=StringVar()\n",
        "\n",
        "#a frame for the input field\n",
        "input_frame =Frame(win,  width-312,   height-50,  bd-0,   highlightbackground=\"black\",    highlightcolor=\"black\",   highlightthickness=2)\n",
        "input_frame.pack(side=TOP)\n",
        "\n",
        "#a input field inside the 'Frame'\n",
        "input_field=Entry(input_frame,font=('arial', 18,'bold'),textvariable=input_text,width=50,bg=\"#eee\",bd=0,justify=RIGHT)\n",
        "input_field.grid(row=0,column=0)\n",
        "input_field.pack(ipady=10)#'ipady' is internal padding to increase the height of input field\n",
        "\n",
        "#creating another 'Frame' for the button below the 'input_frame'\n",
        "btns_frame=Frame(win,width=312,height=272.5,bg=\"grey\")\n",
        "btns_frame.pack()\n",
        "\n",
        "#first row \n",
        "clear=Button(btns_frame,text=\"C\",fg=\"black\",width=32,height=3,bd=0,bg=\"#eee\",cursor=\"hand2\",command=lambda:bt_clear()).grid(row=0,column=0,columnspan=3,padx=1,pady=1)\n",
        "divide=Button(btns_frame,text=\"/\",fg=\"black\",width=10,height=3,bd=0,bg=\"#eee\",cursor=\"hand2\",command=lambda:btn_click(\"/\")).grid(row=0,column=3,padx=1,pady=1)\n",
        "\n",
        "#second row\n",
        "seven=Button(btns_frame,text=\"7\",fg=\"black\",width=10,height=3,bd=0,bg=\"#fff\",cursor=\"hand2\",command=lambda:btn_click(7)).grid(row=1,column=0,padx=1,pady=1)\n",
        "eight=Button(btns_frame,text=\"8\",fg=\"black\",width=10,height=3,bd=0,bg=\"#fff\",cursor=\"hand2\",command=lambda:btn_click(8)).grid(row=1,column=1,padx=1,pady=1)\n",
        "nine=Button(btns_frame,text=\"9\",fg=\"black\",width=10,height=3,bd=0,bg=\"#fff\",cursor=\"hand2\",command=lambda:btn_click(9)).grid(row=1,column=2,padx=1,pady=1)\n",
        "multiply=Button(btns_frame,text=\"\",fg=\"black\",width=10,height=3,bd=0,bg=\"#fff\",cursor=\"hand2\",command=lambda:btn_click(\"\")).grid(row=1,column=3,padx=1,pady=1)\n",
        "\n",
        "#third row\n",
        "four=Button(btns_frame,text=\"4\",fg=\"black\",width=10,height=3,bd=0,bg=\"#fff\",cursor=\"hand2\",command=lambda:btn_click(4)).grid(row=2,column=0,padx=1,pady=1)\n",
        "five=Button(btns_frame,text=\"5\",fg=\"black\",width=10,height=3,bd=0,bg=\"#fff\",cursor=\"hand2\",command=lambda:btn_click(5)).grid(row=2,column=1,padx=1,pady=1)\n",
        "six=Button(btns_frame,text=\"6\",fg=\"black\",width=10,height=3,bd=0,bg=\"#fff\",cursor=\"hand2\",command=lambda:btn_click(6)).grid(row=2,column=2,padx=1,pady=1)\n",
        "minus=Button(btns_frame,text=\"-\",fg=\"black\",width=10,height=3,bd=0,bg=\"#fff\",cursor=\"hand2\",command=lambda:btn_click(\"-\")).grid(row=2,column=3,padx=1,pady=1)\n",
        "\n",
        "#fourth row\n",
        "one=Button(btns_frame,text=\"1\",fg=\"black\",width=10,height=3,bd=0,bg=\"#fff\",cursor=\"hand2\",command=lambda:btn_click(1)).grid(row=3,column=0,padx=1,pady=1)\n",
        "two=Button(btns_frame,text=\"2\",fg=\"black\",width=10,height=3,bd=0,bg=\"#fff\",cursor=\"hand2\",command=lambda:btn_click(2)).grid(row=3,column=1,padx=1,pady=1)\n",
        "three=Button(btns_frame,text=\"3\",fg=\"black\",width=10,height=3,bd=0,bg=\"#fff\",cursor=\"hand2\",command=lambda:btn_click(3)).grid(row=3,column=2,padx=1,pady=1)\n",
        "plus=Button(btns_frame,text=\"+\",fg=\"black\",width=10,height=3,bd=0,bg=\"#fff\",cursor=\"hand2\",command=lambda:btn_click(\"+\")).grid(row=3,column=3,padx=1,pady=1)\n",
        "\n",
        "#fifth row\n",
        "zero=Button(btns_frame,text=\"0\",fg=\"black\",width=10,height=3,bd=0,bg=\"#fff\",cursor=\"hand2\",command=lambda:btn_click(0)).grid(row=4,column=0,padx=1,pady=1)\n",
        "point=Button(btns_frame,text=\".\",fg=\"black\",width=10,height=3,bd=0,bg=\"#fff\",cursor=\"hand2\",command=lambda:btn_click(\".\")).grid(row=4,column=2,padx=1,pady=1)\n",
        "equals=Button(btns_frame,text=\"=\",fg=\"black\",width=10,height=3,bd=0,bg=\"#fff\",cursor=\"hand2\",command=lambda:bt_equal()).grid(row=4,column=3,padx=1,pady=1)\n",
        "\n",
        "win.mainloop()"
      ],
      "execution_count": null,
      "outputs": []
    },
    {
      "cell_type": "markdown",
      "metadata": {
        "id": "1GbHJ7D-jdUK"
      },
      "source": [
        "![image.png](data:image/png;base64,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)"
      ]
    },
    {
      "cell_type": "markdown",
      "metadata": {
        "id": "9HubM2u5jyPj"
      },
      "source": [
        "b)Write a program to implement the following figures using turtle. 𝐀𝐈𝐌:\n",
        "\n",
        "To Write a program to implement the following figures using turtle.\n",
        "\n",
        "𝐃𝐄𝐒𝐂𝐑𝐈𝐏𝐓𝐈𝐎𝐍:\n",
        "\n",
        "turtle is a pre-installed Python library that enables users to create pictures and shapes by providing them with a virtual canvas. The onscreen pen that you use for drawing is called the turtle and this is what gives the library its name. ... Most developers use turtle to draw shapes, create designs, and make images."
      ]
    },
    {
      "cell_type": "code",
      "metadata": {
        "id": "C6_3t7-Gj6nn"
      },
      "source": [
        " #14B FIGURE1.\n",
        "import turtle\n",
        "c=[\"red\",\"green\",\"blue\"]\n",
        "i=0\n",
        "turtle.pensize(5)\n",
        " \n",
        "for angle in range(0,360,30):\n",
        "    if i>2:\n",
        "        i=0\n",
        "    turtle.color(c[i])\n",
        "    turtle.seth(angle)\n",
        "    turtle.circle(50)\n",
        "    i+=1"
      ],
      "execution_count": null,
      "outputs": []
    },
    {
      "cell_type": "markdown",
      "metadata": {
        "id": "XRcH5RYIkpWK"
      },
      "source": [
        "![image.png](data:image/png;base64,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)"
      ]
    },
    {
      "cell_type": "code",
      "metadata": {
        "id": "NvV009hdsHP0"
      },
      "source": [
        " #14B FIGURE2.\n",
        "import turtle\n",
        "turtle.pensize(1)\n",
        " \n",
        "for i in range(36):\n",
        "    for j in range(4):\n",
        "        turtle.forward(70)\n",
        "        turtle.left(90)\n",
        "    turtle.left(10)"
      ],
      "execution_count": null,
      "outputs": []
    },
    {
      "cell_type": "markdown",
      "metadata": {
        "id": "RqpEXVpFjJeL"
      },
      "source": [
        "![image.png](data:image/png;base64,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)"
      ]
    },
    {
      "cell_type": "markdown",
      "metadata": {
        "id": "Pkm8O1_7svS5"
      },
      "source": [
        "EXERCISE 15-Testing\n",
        "a)Write a test-case to check the function even numbers which return True on passing a list of all numbers.\n",
        "𝐀𝐈𝐌:\n",
        "\n",
        "To Write a test-case to check the function even numbers which return True on passing a list of all even numbers.\n",
        "\n",
        "𝐃𝐄𝐒𝐂𝐑𝐈𝐏𝐓𝐈𝐎𝐍:\n",
        "\n",
        "Testcase is used to create test cases by subclassing it. The last block of the code at the bottom allows us to run all the tests just by running the file. Basic terms used in the code : assertEqual()\n",
        "\n",
        "– This statement is used to check if the result obtained is equal to the expected result\n",
        "\n",
        "test case:\n",
        "\n",
        "A test case is a set of conditions which is used to determine whether a system under test works correctly"
      ]
    },
    {
      "cell_type": "code",
      "metadata": {
        "colab": {
          "base_uri": "https://localhost:8080/"
        },
        "id": "q6QQwJ4LsuDI",
        "outputId": "b8471253-286d-4da5-e21d-f1c7b340fe32"
      },
      "source": [
        " def evnNo(num):\n",
        "    stat=True\n",
        " \n",
        "    for i in num:\n",
        "        if i%2 ==1:\n",
        "            stat=False\n",
        "            break\n",
        "    return stat\n",
        "        \n",
        "numbers=[]\n",
        "for i in range(0,2):\n",
        "    numbers.append(int(input(\"Enter a value\")))\n",
        "print(evnNo(numbers))"
      ],
      "execution_count": null,
      "outputs": [
        {
          "output_type": "stream",
          "text": [
            "Enter a value2\n",
            "Enter a value4\n",
            "True\n"
          ],
          "name": "stdout"
        }
      ]
    },
    {
      "cell_type": "markdown",
      "metadata": {
        "id": "U59DH-phtf0w"
      },
      "source": [
        "b)Write a test-case to check the function revesre string which returns the reversed string.\n",
        "𝐀𝐈𝐌:\n",
        "Test-case to check the function reverse string which returns the reversed string.\n",
        "\n",
        "𝐃𝐄𝐒𝐂𝐑𝐈𝐏𝐓𝐈𝐎𝐍:\n",
        "Python string library does’nt support the in-built “reverse()” as done by other python containers like list, hence knowing other methods to reverse string can prove to be useful.The reversed() returns the reversed iterator of the given string and then its elements are joined empty string separated using join(). And reversed order string is formed."
      ]
    },
    {
      "cell_type": "code",
      "metadata": {
        "colab": {
          "base_uri": "https://localhost:8080/"
        },
        "id": "PjuVGMx8tgNb",
        "outputId": "32e700dd-3be9-43dd-d666-3a915a59af26"
      },
      "source": [
        " def rev_str(st):\n",
        "  temp=\"\"\n",
        "  for i in range(len(st)-1,-1,-1):\n",
        "     temp+=st[i]\n",
        "  return temp\n",
        "st=\"Swarnandra \"\n",
        "print(\"given string is\",st)\n",
        "print(\"reverse string is:\",rev_str(st))"
      ],
      "execution_count": null,
      "outputs": [
        {
          "output_type": "stream",
          "text": [
            "given string is Swarnandra \n",
            "reverse string is:  ardnanrawS\n"
          ],
          "name": "stdout"
        }
      ]
    },
    {
      "cell_type": "markdown",
      "metadata": {
        "id": "mdvRhYF_uKc2"
      },
      "source": [
        "EXERCISE 16-Advanced\n",
        "a)Build any one classical data structure.\n",
        "𝐀𝐈𝐌:\n",
        "To build any one classical data structure .\n",
        "\n",
        "𝐃𝐄𝐒𝐂𝐑𝐈𝐏𝐓𝐈𝐎𝐍:\n",
        "The basic Python data structures in Python include list, set, tuples, and dictionary. ... Data structures are “containers” that organize and group data according to type. The data structures differ based on mutability and order. Mutability refers to the ability to change an object after its creation."
      ]
    },
    {
      "cell_type": "code",
      "metadata": {
        "colab": {
          "base_uri": "https://localhost:8080/"
        },
        "id": "xwfFsGD3uMGg",
        "outputId": "a35e64bb-ac31-4aba-8610-973f1714c392"
      },
      "source": [
        "class ATM:\n",
        "  def __init__(self):\n",
        "    self.balance=0\n",
        "  def enquire(self):\n",
        "    print(\"Balance:\",self.balance)\n",
        "  def deposit(self):\n",
        "    amount=int(input(\"Enter the Deposit Amount:\"))\n",
        "    self.balance+=amount\n",
        "    self.enquire()\n",
        "  def withdraw(self):\n",
        "    amount=int(input(\"Enter the Withdarw Amount:\"))\n",
        "    if self.balance<amount:\n",
        "      print(\"Insuffient Balnace....!\")\n",
        "    else:\n",
        "      self.balance-=amount\n",
        "      self.enquire()\n",
        "aobj=ATM()\n",
        "while(True):\n",
        "  print(\"****Menu****\")\n",
        "  print(\"1.Deposit\")\n",
        "  print(\"2.Withdarw\")\n",
        "  print(\"3.Balance\")\n",
        "  print(\"0.Exit\")\n",
        "  ch=int(input(\"Enter your choice:\"))\n",
        "  if ch==0:\n",
        "    break\n",
        "  elif ch==1:\n",
        "    aobj.deposit()\n",
        "  elif ch==2:\n",
        "    aobj.withdraw()\n",
        "  elif ch==3:\n",
        "    aobj.enquire()\n",
        "  else:\n",
        "    print(\"Invalid Choice\")\n",
        "    pass"
      ],
      "execution_count": null,
      "outputs": [
        {
          "name": "stdout",
          "output_type": "stream",
          "text": [
            "****Menu****\n",
            "1.Deposit\n",
            "2.Withdarw\n",
            "3.Balance\n",
            "0.Exit\n",
            "Enter your choice:1\n",
            "Enter the Deposit Amount:200\n",
            "Balance: 200\n",
            "****Menu****\n",
            "1.Deposit\n",
            "2.Withdarw\n",
            "3.Balance\n",
            "0.Exit\n",
            "Enter your choice:1\n",
            "Enter the Deposit Amount:500\n",
            "Balance: 700\n",
            "****Menu****\n",
            "1.Deposit\n",
            "2.Withdarw\n",
            "3.Balance\n",
            "0.Exit\n",
            "Enter your choice:0\n"
          ]
        }
      ]
    },
    {
      "cell_type": "markdown",
      "metadata": {
        "id": "XK-dcSCquLIa"
      },
      "source": [
        "b)Write a program to solve knapsack problem.\n",
        "𝐀𝐈𝐌:\n",
        "To write a program to solve knapsack problem.\n",
        "\n",
        "𝐃𝐄𝐒𝐂𝐑𝐈𝐏𝐓𝐈𝐎𝐍:\n",
        "A knapsack problem algorithm is a constructive approach to combinatorial optimization. The problem is basically about a given set of items, each with a specific weight and a value. Therefore the programmer needs to determine each item’s number to include in a collection so that the total weight is less than or equal to a given limit. And also, the total value is maximum. It derives its name from the fixed-size knapsack that must be filled up to its limit with the most valuable items.\n",
        "\n"
      ]
    },
    {
      "cell_type": "code",
      "metadata": {
        "colab": {
          "base_uri": "https://localhost:8080/"
        },
        "id": "RyCTCtSTvfIH",
        "outputId": "a1b9da0c-7cf4-43f9-bb18-845e8c317819"
      },
      "source": [
        " def knapSack(W, wt, val, n):\n",
        "   K= [[0 for x in range(W+1)] for x in range(n+1)]\n",
        "   for i in range(n+1):\n",
        "     for w in range(W+1):\n",
        "       if i==0 or w==0:\n",
        "          K[i][w] = 0\n",
        "       elif wt[i-1]<=w:\n",
        "          K[i][w]= max(val[i-1]+K[i-1][w-wt[i-1]],K[i-1][w])\n",
        "       else:\n",
        "          K[i][w] = K[i-1][w]\n",
        "   return K[n][W]\n",
        "val = [5, 3, 4]\n",
        "wt = [3, 2, 1]\n",
        "W = 5\n",
        "n= len(val)\n",
        "print(\"Maximum value knapsack of capacity W: \", knapSack(W, wt,val,n))"
      ],
      "execution_count": null,
      "outputs": [
        {
          "output_type": "stream",
          "text": [
            "Maximum value knapsack of capacity W:  9\n"
          ],
          "name": "stdout"
        }
      ]
    },
    {
      "cell_type": "markdown",
      "metadata": {
        "id": "z7_UQHCqv5WE"
      },
      "source": [
        "EXERCISE-17&18 -Data Analysis\n",
        "Data analysis or manipulation using the following packages\n",
        "a) Numpy b)Pandas\n",
        "a) Scipy b)matplotlib\n",
        "𝐀𝐈𝐌:\n",
        "using packages do data analysis and manipulation\n",
        "\n",
        "𝐃𝐄𝐒𝐂𝐑𝐈𝐏𝐓𝐈𝐎𝐍 :\n",
        "SciPy is a free and open-source Python library used for scientific computing and technical computing. It is a collection of mathematical algorithms and convenience functions built on the NumPy extension of Python NumPy is the fundamental package for scientific computing in Python. ....NumPy arrays facilitate advanced mathematical and other types of operations on large numbers of data. Matplotlib is a plotting library for the Python programming language and its numerical mathematics extension NumPy. It provides an object-oriented API for embedding plots into applications using general-purpose GUI toolkits like Tkinter, wxPython, Qt, or GTK Pandas is an open source Python package that is most widely used for data science/data analysis and machine learning tasks. It is built on top of another package named Numpy, which provides support for multi-dimensional arrays. Scikit-learn is probably the most useful library for machine learning in Python. The sklearn library contains a lot of eficient tools for machine learning and statistical modeling including classification, regression, clustering and dimensionality reduction. Seaborn is a library in Python predominantly used for making statistical graphics. Seaborn is a data visualization library built on top of matplotlib and closely integrated with pandas data structures in Python\n",
        "\n"
      ]
    },
    {
      "cell_type": "code",
      "metadata": {
        "colab": {
          "base_uri": "https://localhost:8080/"
        },
        "id": "buwyDaYBv1cm",
        "outputId": "34c66b51-e2bd-4920-fba3-4badd3c7cdf7"
      },
      "source": [
        " \n",
        "#Python version\n",
        "import sys\n",
        "print('Python: {}'.format(sys.version))\n",
        " \n",
        "#scipy\n",
        "import scipy\n",
        "print('scipy: {}'.format(scipy.__version__))\n",
        " \n",
        "# numpy\n",
        "import numpy\n",
        "print( 'numpy: {}'.format(numpy.__version__))\n",
        " \n",
        "# matplotlib\n",
        "import matplotlib\n",
        "print('matplotlib: {}'.format(matplotlib.__version__))\n",
        " \n",
        "# pandas\n",
        "import pandas\n",
        "print('pandas: {}'.format(pandas.__version__))\n",
        " \n",
        "#scikit-learn\n",
        "import sklearn\n",
        "print('sklearn: {}'.format(sklearn.__version__))\n",
        "import seaborn\n",
        "print('seaborn: {}'.format(seaborn.__version__))\n",
        "import urllib\n",
        "print('urlib: {}'.format(urllib.__name__))\n",
        "import csv\n",
        "print('csv: {}'.format(csv.__version__))"
      ],
      "execution_count": null,
      "outputs": [
        {
          "output_type": "stream",
          "text": [
            "Python: 3.7.11 (default, Jul  3 2021, 18:01:19) \n",
            "[GCC 7.5.0]\n",
            "scipy: 1.4.1\n",
            "numpy: 1.19.5\n",
            "matplotlib: 3.2.2\n",
            "pandas: 1.1.5\n",
            "sklearn: 0.22.2.post1\n",
            "seaborn: 0.11.1\n",
            "urlib: urllib\n",
            "csv: 1.0\n"
          ],
          "name": "stdout"
        }
      ]
    },
    {
      "cell_type": "code",
      "metadata": {
        "id": "Xx98q8cWkjc7"
      },
      "source": [
        ""
      ],
      "execution_count": null,
      "outputs": []
    }
  ]
}