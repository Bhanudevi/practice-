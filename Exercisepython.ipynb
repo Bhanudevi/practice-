{
  "nbformat": 4,
  "nbformat_minor": 0,
  "metadata": {
    "colab": {
      "name": "Exercisepython.ipynb",
      "provenance": [],
      "collapsed_sections": [],
      "authorship_tag": "ABX9TyNRL49qRNZKkuNPVtdlw1qD",
      "include_colab_link": true
    },
    "kernelspec": {
      "name": "python3",
      "display_name": "Python 3"
    },
    "language_info": {
      "name": "python"
    }
  },
  "cells": [
    {
      "cell_type": "markdown",
      "metadata": {
        "id": "view-in-github",
        "colab_type": "text"
      },
      "source": [
        "<a href=\"https://colab.research.google.com/github/Bhanudevi/practice-/blob/main/Exercisepython.ipynb\" target=\"_parent\"><img src=\"https://colab.research.google.com/assets/colab-badge.svg\" alt=\"Open In Colab\"/></a>"
      ]
    },
    {
      "cell_type": "markdown",
      "metadata": {
        "id": "jwS_oF8vQXgk"
      },
      "source": [
        " Running instructions in interactive interpreter and python script"
      ]
    },
    {
      "cell_type": "code",
      "metadata": {
        "colab": {
          "base_uri": "https://localhost:8080/"
        },
        "id": "qnj85KgkQtLh",
        "outputId": "f183b42e-d4c5-4e95-e75b-75db4c7e83e4"
      },
      "source": [
        "2+3"
      ],
      "execution_count": null,
      "outputs": [
        {
          "output_type": "execute_result",
          "data": {
            "text/plain": [
              "5"
            ]
          },
          "metadata": {
            "tags": []
          },
          "execution_count": 1
        }
      ]
    },
    {
      "cell_type": "code",
      "metadata": {
        "colab": {
          "base_uri": "https://localhost:8080/"
        },
        "id": "eRuKdv3-Qzdn",
        "outputId": "fdc702c5-dfe4-4eb2-8432-118d513c747b"
      },
      "source": [
        "print(\"Hello world\")"
      ],
      "execution_count": null,
      "outputs": [
        {
          "output_type": "stream",
          "text": [
            "Hello world\n"
          ],
          "name": "stdout"
        }
      ]
    },
    {
      "cell_type": "code",
      "metadata": {
        "colab": {
          "base_uri": "https://localhost:8080/"
        },
        "id": "qBoihKLAQ6Px",
        "outputId": "d1f60409-3d15-438d-9079-3b70b23ac614"
      },
      "source": [
        "C=\"Python lab programming\"\n",
        "print(C)"
      ],
      "execution_count": null,
      "outputs": [
        {
          "output_type": "stream",
          "text": [
            "Python lab programming\n"
          ],
          "name": "stdout"
        }
      ]
    },
    {
      "cell_type": "code",
      "metadata": {
        "colab": {
          "base_uri": "https://localhost:8080/"
        },
        "id": "9fSW9qTJRFYB",
        "outputId": "cb7679bd-c685-4b69-8eea-f6cbe5b3e4b5"
      },
      "source": [
        "Lst=[\"Bhanu\",\"19A21A0580\",15]\n",
        "print(Lst)"
      ],
      "execution_count": null,
      "outputs": [
        {
          "output_type": "stream",
          "text": [
            "['Bhanu', '19A21A0580', 15]\n"
          ],
          "name": "stdout"
        }
      ]
    },
    {
      "cell_type": "code",
      "metadata": {
        "colab": {
          "base_uri": "https://localhost:8080/"
        },
        "id": "jLF3CSauRWs2",
        "outputId": "af817736-4c86-4f3d-c13c-1dd651f2baee"
      },
      "source": [
        "c=10\n",
        "print(type(c))"
      ],
      "execution_count": null,
      "outputs": [
        {
          "output_type": "stream",
          "text": [
            "<class 'int'>\n"
          ],
          "name": "stdout"
        }
      ]
    },
    {
      "cell_type": "code",
      "metadata": {
        "colab": {
          "base_uri": "https://localhost:8080/"
        },
        "id": "Yc8ZGQuoRhty",
        "outputId": "b9a0f274-21b9-438d-aff6-39b5eab5d2d9"
      },
      "source": [
        "a=51\n",
        "b=23\n",
        "print(a+b,a-b,a*c,a/b,a%b,a//b,sep=\"   \")"
      ],
      "execution_count": null,
      "outputs": [
        {
          "output_type": "stream",
          "text": [
            "74   28   510   2.217391304347826   5   2\n"
          ],
          "name": "stdout"
        }
      ]
    },
    {
      "cell_type": "markdown",
      "metadata": {
        "id": "wRrb0WbJkmJ-"
      },
      "source": [
        " \n",
        "Exercise 1b\n",
        " Write a program to raise purposefully an indentation error and correct it."
      ]
    },
    {
      "cell_type": "code",
      "metadata": {
        "id": "O-kaxetnkrPF",
        "colab": {
          "base_uri": "https://localhost:8080/",
          "height": 165
        },
        "outputId": "6b4eac65-c00e-4549-a85a-cf3dbaa807d6"
      },
      "source": [
        " if 2>1:\n",
        "print(\"Hii\")"
      ],
      "execution_count": null,
      "outputs": [
        {
          "output_type": "error",
          "ename": "IndentationError",
          "evalue": "ignored",
          "traceback": [
            "\u001b[0;36m  File \u001b[0;32m\"<ipython-input-1-3a9e7a8358cc>\"\u001b[0;36m, line \u001b[0;32m2\u001b[0m\n\u001b[0;31m    print(\"Hii\")\u001b[0m\n\u001b[0m        ^\u001b[0m\n\u001b[0;31mIndentationError\u001b[0m\u001b[0;31m:\u001b[0m expected an indented block\n"
          ]
        }
      ]
    },
    {
      "cell_type": "code",
      "metadata": {
        "colab": {
          "base_uri": "https://localhost:8080/"
        },
        "id": "H5ICWTJ7lFZa",
        "outputId": "4aacaeea-c69e-42d9-be35-8dbf78f52dad"
      },
      "source": [
        "if 2>1:\n",
        "  print(\"true\")"
      ],
      "execution_count": null,
      "outputs": [
        {
          "output_type": "stream",
          "text": [
            "true\n"
          ],
          "name": "stdout"
        }
      ]
    },
    {
      "cell_type": "code",
      "metadata": {
        "id": "Dx-VywzylcNH",
        "colab": {
          "base_uri": "https://localhost:8080/",
          "height": 148
        },
        "outputId": "7aeda92b-a6da-431c-9e26-acf54ce236f1"
      },
      "source": [
        " x=2\n",
        "y=3\n",
        "if x+y:\n",
        "  print(x+y)\n",
        "  else:\n",
        "  print(\"happy hours\")"
      ],
      "execution_count": null,
      "outputs": [
        {
          "output_type": "error",
          "ename": "SyntaxError",
          "evalue": "ignored",
          "traceback": [
            "\u001b[0;36m  File \u001b[0;32m\"<ipython-input-3-78afb0219e82>\"\u001b[0;36m, line \u001b[0;32m5\u001b[0m\n\u001b[0;31m    else:\u001b[0m\n\u001b[0m       ^\u001b[0m\n\u001b[0;31mSyntaxError\u001b[0m\u001b[0;31m:\u001b[0m invalid syntax\n"
          ]
        }
      ]
    },
    {
      "cell_type": "markdown",
      "metadata": {
        "id": "nFfyo9dDmMT9"
      },
      "source": [
        "Exercise2a:\n",
        "Write a program to find distance between two points..."
      ]
    },
    {
      "cell_type": "code",
      "metadata": {
        "colab": {
          "base_uri": "https://localhost:8080/"
        },
        "id": "85NzcrWvmRzH",
        "outputId": "882ba910-584a-41c6-aefe-a5a2827a272b"
      },
      "source": [
        " x1=int(input(\"Enter x coordinate of point1:\"))\n",
        "y1=int(input(\"Enter y coordinate of point1:\"))\n",
        "x2=int(input(\"Enter y coordinate of point2:\"))\n",
        "y2=int(input(\"Enter y coordinate of point2:\"))\n",
        "d=(x2-x1)**2 +(y2-y1)**2\n",
        "d=d**(1/2)\n",
        "print(d)"
      ],
      "execution_count": null,
      "outputs": [
        {
          "output_type": "stream",
          "text": [
            "Enter x coordinate of point1:2\n",
            "Enter y coordinate of point1:2\n",
            "Enter y coordinate of point2:0\n",
            "Enter y coordinate of point2:0\n",
            "2.8284271247461903\n"
          ],
          "name": "stdout"
        }
      ]
    },
    {
      "cell_type": "markdown",
      "metadata": {
        "id": "N94o_G83mgbY"
      },
      "source": [
        "Exercise 2b\n",
        "Command line arguments"
      ]
    },
    {
      "cell_type": "code",
      "metadata": {
        "id": "giaTTiIjmlVP",
        "colab": {
          "base_uri": "https://localhost:8080/",
          "height": 319
        },
        "outputId": "b4729d46-e424-4b36-a4af-ee404e2fff23"
      },
      "source": [
        " import sys\n",
        "a=int(sys.argv[1])\n",
        "b=int(sys.argv[2])\n",
        "sum=a+b\n",
        "print(\"Sum of two numbers :\",sum)"
      ],
      "execution_count": null,
      "outputs": [
        {
          "output_type": "error",
          "ename": "ValueError",
          "evalue": "ignored",
          "traceback": [
            "\u001b[0;31m---------------------------------------------------------------------------\u001b[0m",
            "\u001b[0;31mValueError\u001b[0m                                Traceback (most recent call last)",
            "\u001b[0;32m<ipython-input-6-1729f54b4b5a>\u001b[0m in \u001b[0;36m<module>\u001b[0;34m()\u001b[0m\n\u001b[1;32m      1\u001b[0m \u001b[0;32mimport\u001b[0m \u001b[0msys\u001b[0m\u001b[0;34m\u001b[0m\u001b[0;34m\u001b[0m\u001b[0m\n\u001b[0;32m----> 2\u001b[0;31m \u001b[0ma\u001b[0m\u001b[0;34m=\u001b[0m\u001b[0mint\u001b[0m\u001b[0;34m(\u001b[0m\u001b[0msys\u001b[0m\u001b[0;34m.\u001b[0m\u001b[0margv\u001b[0m\u001b[0;34m[\u001b[0m\u001b[0;36m1\u001b[0m\u001b[0;34m]\u001b[0m\u001b[0;34m)\u001b[0m\u001b[0;34m\u001b[0m\u001b[0;34m\u001b[0m\u001b[0m\n\u001b[0m\u001b[1;32m      3\u001b[0m \u001b[0mb\u001b[0m\u001b[0;34m=\u001b[0m\u001b[0mint\u001b[0m\u001b[0;34m(\u001b[0m\u001b[0msys\u001b[0m\u001b[0;34m.\u001b[0m\u001b[0margv\u001b[0m\u001b[0;34m[\u001b[0m\u001b[0;36m2\u001b[0m\u001b[0;34m]\u001b[0m\u001b[0;34m)\u001b[0m\u001b[0;34m\u001b[0m\u001b[0;34m\u001b[0m\u001b[0m\n\u001b[1;32m      4\u001b[0m \u001b[0msum\u001b[0m\u001b[0;34m=\u001b[0m\u001b[0ma\u001b[0m\u001b[0;34m+\u001b[0m\u001b[0mb\u001b[0m\u001b[0;34m\u001b[0m\u001b[0;34m\u001b[0m\u001b[0m\n\u001b[1;32m      5\u001b[0m \u001b[0mprint\u001b[0m\u001b[0;34m(\u001b[0m\u001b[0;34m\"Sum of two numbers :\"\u001b[0m\u001b[0;34m,\u001b[0m\u001b[0msum\u001b[0m\u001b[0;34m)\u001b[0m\u001b[0;34m\u001b[0m\u001b[0;34m\u001b[0m\u001b[0m\n",
            "\u001b[0;31mValueError\u001b[0m: invalid literal for int() with base 10: '-f'"
          ]
        }
      ]
    },
    {
      "cell_type": "markdown",
      "metadata": {
        "id": "iyBMCZ4Zm7NB"
      },
      "source": [
        "Exercise3a\n",
        "To check whether  the given number is even or odd"
      ]
    },
    {
      "cell_type": "code",
      "metadata": {
        "id": "fZh9rjzHnRU8",
        "colab": {
          "base_uri": "https://localhost:8080/"
        },
        "outputId": "221409b5-2231-4693-9aec-7950c282328f"
      },
      "source": [
        " n=int(input(\"Enter a number:\"))\n",
        "if (n%2==0):\n",
        "  print(n,\"is an even number\")\n",
        "else:\n",
        "  print(n,\"is an odd number\")"
      ],
      "execution_count": null,
      "outputs": [
        {
          "output_type": "stream",
          "text": [
            "Enter a number:6\n",
            "6 is an even number\n"
          ],
          "name": "stdout"
        }
      ]
    },
    {
      "cell_type": "markdown",
      "metadata": {
        "id": "8RonTjcVnURE"
      },
      "source": [
        "3b\n",
        "Using for loop write a program to print 1/2,1/3,..,1/10.."
      ]
    },
    {
      "cell_type": "code",
      "metadata": {
        "id": "1i0D93yDno2y",
        "colab": {
          "base_uri": "https://localhost:8080/"
        },
        "outputId": "51b4d48a-bdb2-46dc-d37d-5c0583afb0fe"
      },
      "source": [
        "for I in range(2,10):\n",
        "  print(1/I)"
      ],
      "execution_count": null,
      "outputs": [
        {
          "output_type": "stream",
          "text": [
            "0.5\n",
            "0.3333333333333333\n",
            "0.25\n",
            "0.2\n",
            "0.16666666666666666\n",
            "0.14285714285714285\n",
            "0.125\n",
            "0.1111111111111111\n"
          ],
          "name": "stdout"
        }
      ]
    },
    {
      "cell_type": "markdown",
      "metadata": {
        "id": "TIF7x1lCoEc4"
      },
      "source": [
        "3c\n",
        " Sequences are one of the principal built-in data types besides numerics, mappings, files, instances and exceptions. Python provides for six sequence (or sequential) data types:strings,byte sequences,byte arrays,lists,tuples,range objects The items or elements of strings, lists and tuples are ordered in a defined sequence The elements can be accessed via indices"
      ]
    },
    {
      "cell_type": "code",
      "metadata": {
        "colab": {
          "base_uri": "https://localhost:8080/"
        },
        "id": "qHGEtVk9ojLe",
        "outputId": "dee2ca35-faa0-4eca-9f26-0d22103443c6"
      },
      "source": [
        "Lst=[]\n",
        "n=int(input(\"Enter limit:\"))\n",
        "print(\"Enter elements:\")\n",
        "for i in range(n):\n",
        "  a=int(input())\n",
        "  Lst.append(a)\n",
        "print(Lst)"
      ],
      "execution_count": null,
      "outputs": [
        {
          "output_type": "stream",
          "text": [
            "Enter limit:3\n",
            "Enter elements:\n",
            "1\n",
            "2\n",
            "3\n",
            "[1, 2, 3]\n"
          ],
          "name": "stdout"
        }
      ]
    },
    {
      "cell_type": "markdown",
      "metadata": {
        "id": "Qp_I6FO5pFLa"
      },
      "source": [
        " Exercise 3d\n",
        "Write a program using while loop that asks user a limit and print countdown."
      ]
    },
    {
      "cell_type": "code",
      "metadata": {
        "id": "ecm7avTjpKBH",
        "colab": {
          "base_uri": "https://localhost:8080/"
        },
        "outputId": "ff4eaea5-bdce-4c97-94bf-e38ef9a43aa5"
      },
      "source": [
        " \n",
        "n=int(input(\"Enter the number to start countdown:\"))\n",
        "while n>=0:\n",
        "  print(n)\n",
        "  n-=1"
      ],
      "execution_count": null,
      "outputs": [
        {
          "output_type": "stream",
          "text": [
            "Enter the number to start countdown:6\n",
            "6\n",
            "5\n",
            "4\n",
            "3\n",
            "2\n",
            "1\n",
            "0\n"
          ],
          "name": "stdout"
        }
      ]
    },
    {
      "cell_type": "markdown",
      "metadata": {
        "id": "uCUVrG_4prza"
      },
      "source": [
        "4a\n",
        "To find sum of all prime numbers 2000000"
      ]
    },
    {
      "cell_type": "code",
      "metadata": {
        "colab": {
          "base_uri": "https://localhost:8080/"
        },
        "id": "MqgujyxapyQy",
        "outputId": "2f361128-28ba-4db6-f8b1-e34d53ed2800"
      },
      "source": [
        " sum=0\n",
        "for i in range(1,2000):\n",
        "  count=0\n",
        "  for j in range(1,i):\n",
        "    if i%j==0:\n",
        "      count+=1\n",
        "  if count==1:\n",
        "    sum+=i\n",
        "print(\"Sum of all prime numbers is\",sum)"
      ],
      "execution_count": null,
      "outputs": [
        {
          "output_type": "stream",
          "text": [
            "Sum of all prime numbers is 277050\n"
          ],
          "name": "stdout"
        }
      ]
    },
    {
      "cell_type": "markdown",
      "metadata": {
        "id": "70Qxj4OOp0m_"
      },
      "source": [
        "We take 2000000 in the place of 2000"
      ]
    },
    {
      "cell_type": "markdown",
      "metadata": {
        "id": "BBsp5S46p6g6"
      },
      "source": [
        "4b\n",
        "Fibonacci  series"
      ]
    },
    {
      "cell_type": "code",
      "metadata": {
        "colab": {
          "base_uri": "https://localhost:8080/"
        },
        "id": "U0pHdTlJqBvC",
        "outputId": "978f6aa1-47d7-41f7-9d4f-08d76076af17"
      },
      "source": [
        " \n",
        "a=1\n",
        "b=2\n",
        "c=0\n",
        "sum=0\n",
        "while c<3000000:\n",
        "  c=a+b\n",
        "  a=b\n",
        "  b=c\n",
        "  if c%2==0:\n",
        "    sum+=c\n",
        "print()\n",
        "print(\"Sum of even numbers in fibonacci series\\n below 4 million is\",sum+2)"
      ],
      "execution_count": null,
      "outputs": [
        {
          "output_type": "stream",
          "text": [
            "\n",
            "Sum of even numbers in fibonacci series\n",
            " below 4 million is 4613732\n"
          ],
          "name": "stdout"
        }
      ]
    },
    {
      "cell_type": "markdown",
      "metadata": {
        "id": "QcCDADIapTz7"
      },
      "source": [
        ""
      ]
    }
  ]
}