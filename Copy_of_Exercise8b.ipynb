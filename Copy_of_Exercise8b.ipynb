{
  "nbformat": 4,
  "nbformat_minor": 0,
  "metadata": {
    "colab": {
      "name": "Copy of Exercise8b.ipynb",
      "provenance": [],
      "collapsed_sections": [],
      "authorship_tag": "ABX9TyN0McCbms3oUyMG7tfSUX2X",
      "include_colab_link": true
    },
    "kernelspec": {
      "name": "python3",
      "display_name": "Python 3"
    },
    "language_info": {
      "name": "python"
    }
  },
  "cells": [
    {
      "cell_type": "markdown",
      "metadata": {
        "id": "view-in-github",
        "colab_type": "text"
      },
      "source": [
        "<a href=\"https://colab.research.google.com/github/Bhanudevi/practice-/blob/main/Copy_of_Exercise8b.ipynb\" target=\"_parent\"><img src=\"https://colab.research.google.com/assets/colab-badge.svg\" alt=\"Open In Colab\"/></a>"
      ]
    },
    {
      "cell_type": "markdown",
      "metadata": {
        "id": "jlth-wKVK8B6"
      },
      "source": [
        "To find mean,mode,median in a list.."
      ]
    },
    {
      "cell_type": "code",
      "metadata": {
        "colab": {
          "base_uri": "https://localhost:8080/"
        },
        "id": "hE_FxQOVLGXC",
        "outputId": "226909a7-7637-49dc-b1bc-0ec52a57892e"
      },
      "source": [
        "def mean(lst):\n",
        "  return sum(lst)/len(lst)\n",
        "def median(lst):\n",
        "  lst.sort()\n",
        "  if len(lst)%2==1:\n",
        "    return lst[len(lst)%2+1]\n",
        "  else:\n",
        "    return (lst[n//2 -1]+lst[n//2])/2\n",
        "def mode(lst):\n",
        "  mode=0\n",
        "  max_count=0\n",
        "  for j in lst:\n",
        "    count=lst.count(j)\n",
        "    if count>=2 and max_count<count:\n",
        "      mode=j\n",
        "      max_count=count\n",
        "      return mode\n",
        "    else:\n",
        "      return \"No mode\"\n",
        "   \n",
        "n=int(input(\"Enter number of elements:\"))\n",
        "lst=[int(input()) for i in range(n)]\n",
        "print(mean(lst))\n",
        "print(median(lst))\n",
        "print(mode(lst))"
      ],
      "execution_count": null,
      "outputs": [
        {
          "output_type": "stream",
          "text": [
            "Enter number of elements:8\n",
            "12\n",
            "32\n",
            "21\n",
            "88\n",
            "12\n",
            "32\n",
            "31\n",
            "12\n",
            "30.0\n",
            "26.0\n",
            "12\n"
          ],
          "name": "stdout"
        }
      ]
    },
    {
      "cell_type": "markdown",
      "metadata": {
        "id": "APFI7i8dPfPO"
      },
      "source": [
        "12 12 12 21 31 32 32 88"
      ]
    }
  ]
}