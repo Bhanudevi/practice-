{
  "nbformat": 4,
  "nbformat_minor": 0,
  "metadata": {
    "colab": {
      "name": "Exercise10a.ipynb",
      "provenance": [],
      "collapsed_sections": [],
      "authorship_tag": "ABX9TyPYVsZCkTA4FhaKJqiRw7q8",
      "include_colab_link": true
    },
    "kernelspec": {
      "name": "python3",
      "display_name": "Python 3"
    },
    "language_info": {
      "name": "python"
    }
  },
  "cells": [
    {
      "cell_type": "markdown",
      "metadata": {
        "id": "view-in-github",
        "colab_type": "text"
      },
      "source": [
        "<a href=\"https://colab.research.google.com/github/Bhanudevi/practice-/blob/main/Exercise10a.ipynb\" target=\"_parent\"><img src=\"https://colab.research.google.com/assets/colab-badge.svg\" alt=\"Open In Colab\"/></a>"
      ]
    },
    {
      "cell_type": "markdown",
      "metadata": {
        "id": "_c-z1d7SAHfH"
      },
      "source": [
        "Write a cumulative function to find cumulative product in  a list"
      ]
    },
    {
      "cell_type": "code",
      "metadata": {
        "colab": {
          "base_uri": "https://localhost:8080/"
        },
        "id": "QKI8NcJMAPvE",
        "outputId": "8b4acc23-78b9-4e4e-99d0-42fbc18f59f9"
      },
      "source": [
        " \n",
        "def cumulativefrequency(lst):\n",
        "  product=1\n",
        "  for i in lst:\n",
        "    product*=i\n",
        "    temp.append(product)\n",
        "  return temp\n",
        "n=int(input(\"Enter number of elements tobe in list:\"))\n",
        "lst=[int(input()) for i in range(n)]\n",
        "temp=[]\n",
        "temp=cumulativefrequency(lst)\n",
        "print(temp)"
      ],
      "execution_count": null,
      "outputs": [
        {
          "output_type": "stream",
          "text": [
            "Enter number of elements tobe in list:5\n",
            "1\n",
            "2\n",
            "3\n",
            "4\n",
            "5\n",
            "[1, 2, 6, 24, 120]\n"
          ],
          "name": "stdout"
        }
      ]
    }
  ]
}