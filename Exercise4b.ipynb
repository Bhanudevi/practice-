{
  "nbformat": 4,
  "nbformat_minor": 0,
  "metadata": {
    "colab": {
      "name": "Exercise4b.ipynb",
      "provenance": [],
      "collapsed_sections": [],
      "authorship_tag": "ABX9TyNr6UP2pEUug8kFkw34Vpy/",
      "include_colab_link": true
    },
    "kernelspec": {
      "name": "python3",
      "display_name": "Python 3"
    },
    "language_info": {
      "name": "python"
    }
  },
  "cells": [
    {
      "cell_type": "markdown",
      "metadata": {
        "id": "view-in-github",
        "colab_type": "text"
      },
      "source": [
        "<a href=\"https://colab.research.google.com/github/Bhanudevi/practice-/blob/main/Exercise4b.ipynb\" target=\"_parent\"><img src=\"https://colab.research.google.com/assets/colab-badge.svg\" alt=\"Open In Colab\"/></a>"
      ]
    },
    {
      "cell_type": "markdown",
      "metadata": {
        "id": "H2THu59MmgCX"
      },
      "source": [
        "Fibonacci series starts with 1 and 2 the first terms will be 1,2 3,5,8,13,21,34,55,89...... By considering the terms in the Fibonacci sequences whose values don't  exceed four million find the sum of even terms....."
      ]
    },
    {
      "cell_type": "code",
      "metadata": {
        "colab": {
          "base_uri": "https://localhost:8080/"
        },
        "id": "-LEmmZyWrayR",
        "outputId": "1dd84a9a-f8a7-4511-fa30-545c81367f66"
      },
      "source": [
        " \n",
        "a=1\n",
        "b=2\n",
        "c=0\n",
        "sum=0\n",
        "print(\"Even numbers in fibonacci series below 4 million are:2 \",end=\"  \")\n",
        "while c<3000000:\n",
        "  c=a+b\n",
        "  a=b\n",
        "  b=c\n",
        "  if c%2==0:\n",
        "    print(c,end=\"  \")\n",
        "    sum+=c\n",
        "print()\n",
        "print(\"Sum of even numbers in fibonacci series below 4 million is\",sum+2)"
      ],
      "execution_count": null,
      "outputs": [
        {
          "output_type": "stream",
          "text": [
            "Even numbers in fibonacci series below 4 million are:2   8  34  144  610  2584  10946  46368  196418  832040  3524578  \n",
            "Sum of even numbers in fibonacci series below 4 million is 4613732\n"
          ],
          "name": "stdout"
        }
      ]
    }
  ]
}