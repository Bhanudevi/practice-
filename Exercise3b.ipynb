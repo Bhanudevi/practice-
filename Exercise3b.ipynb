{
  "nbformat": 4,
  "nbformat_minor": 0,
  "metadata": {
    "colab": {
      "name": "Exercise3b.ipynb",
      "provenance": [],
      "authorship_tag": "ABX9TyPZMxD1ZlkZ+WOCrEgDZVWI",
      "include_colab_link": true
    },
    "kernelspec": {
      "name": "python3",
      "display_name": "Python 3"
    },
    "language_info": {
      "name": "python"
    }
  },
  "cells": [
    {
      "cell_type": "markdown",
      "metadata": {
        "id": "view-in-github",
        "colab_type": "text"
      },
      "source": [
        "<a href=\"https://colab.research.google.com/github/Bhanudevi/practice-/blob/main/Exercise3b.ipynb\" target=\"_parent\"><img src=\"https://colab.research.google.com/assets/colab-badge.svg\" alt=\"Open In Colab\"/></a>"
      ]
    },
    {
      "cell_type": "markdown",
      "metadata": {
        "id": "RGzM4P5aWG-W"
      },
      "source": [
        "Using for loop write a program to print decimal equivalents of 1/2,1/3,....,1/10"
      ]
    },
    {
      "cell_type": "code",
      "metadata": {
        "colab": {
          "base_uri": "https://localhost:8080/"
        },
        "id": "bo-kFq17WU3g",
        "outputId": "4b3e0e73-a541-45a0-ddba-5129ba7cf505"
      },
      "source": [
        "for I in range(2,11):\n",
        "  print(\"1 /\",I,\" = \",1/I)"
      ],
      "execution_count": null,
      "outputs": [
        {
          "output_type": "stream",
          "text": [
            "1 / 2  =  0.5\n",
            "1 / 3  =  0.3333333333333333\n",
            "1 / 4  =  0.25\n",
            "1 / 5  =  0.2\n",
            "1 / 6  =  0.16666666666666666\n",
            "1 / 7  =  0.14285714285714285\n",
            "1 / 8  =  0.125\n",
            "1 / 9  =  0.1111111111111111\n",
            "1 / 10  =  0.1\n"
          ],
          "name": "stdout"
        }
      ]
    }
  ]
}