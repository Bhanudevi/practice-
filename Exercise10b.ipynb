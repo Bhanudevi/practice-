{
  "nbformat": 4,
  "nbformat_minor": 0,
  "metadata": {
    "colab": {
      "name": "Exercise10b.ipynb",
      "provenance": [],
      "collapsed_sections": [],
      "authorship_tag": "ABX9TyN1PZW90rfOkk5gyKQV4cjl",
      "include_colab_link": true
    },
    "kernelspec": {
      "name": "python3",
      "display_name": "Python 3"
    },
    "language_info": {
      "name": "python"
    }
  },
  "cells": [
    {
      "cell_type": "markdown",
      "metadata": {
        "id": "view-in-github",
        "colab_type": "text"
      },
      "source": [
        "<a href=\"https://colab.research.google.com/github/Bhanudevi/practice-/blob/main/Exercise10b.ipynb\" target=\"_parent\"><img src=\"https://colab.research.google.com/assets/colab-badge.svg\" alt=\"Open In Colab\"/></a>"
      ]
    },
    {
      "cell_type": "markdown",
      "metadata": {
        "id": "vNBIZ4dlEDy1"
      },
      "source": [
        "Write a function reverse to reverse a list,without using reverse function.."
      ]
    },
    {
      "cell_type": "code",
      "metadata": {
        "colab": {
          "base_uri": "https://localhost:8080/"
        },
        "id": "COgpqshDENnw",
        "outputId": "004b647e-820d-4303-80c3-373e18a52368"
      },
      "source": [
        "def reverse(lst):\n",
        "  lst2=[]\n",
        "  for j in lst:\n",
        "    lst2.insert(0,j)\n",
        "  lst=lst2\n",
        "  return lst\n",
        "n=int(input(\"Enter number of elements:\"))\n",
        "lst=[int(input()) for i in range(n)]\n",
        "temp=[]\n",
        "temp=reverse(lst)\n",
        "print(\"Reverse of list is\",temp)"
      ],
      "execution_count": null,
      "outputs": [
        {
          "output_type": "stream",
          "text": [
            "Enter number of elements:5\n",
            "10\n",
            "9\n",
            "8\n",
            "7\n",
            "6\n",
            "Reverse of list is [6, 7, 8, 9, 10]\n"
          ],
          "name": "stdout"
        }
      ]
    }
  ]
}