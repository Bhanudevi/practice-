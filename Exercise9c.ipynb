{
  "nbformat": 4,
  "nbformat_minor": 0,
  "metadata": {
    "colab": {
      "name": "Exercise9c.ipynb",
      "provenance": [],
      "collapsed_sections": [],
      "authorship_tag": "ABX9TyMiaUTfc+Darm4Q6lpuNr/2",
      "include_colab_link": true
    },
    "kernelspec": {
      "name": "python3",
      "display_name": "Python 3"
    },
    "language_info": {
      "name": "python"
    }
  },
  "cells": [
    {
      "cell_type": "markdown",
      "metadata": {
        "id": "view-in-github",
        "colab_type": "text"
      },
      "source": [
        "<a href=\"https://colab.research.google.com/github/Bhanudevi/practice-/blob/main/Exercise9c.ipynb\" target=\"_parent\"><img src=\"https://colab.research.google.com/assets/colab-badge.svg\" alt=\"Open In Colab\"/></a>"
      ]
    },
    {
      "cell_type": "markdown",
      "metadata": {
        "id": "oJcOgMYIe893"
      },
      "source": [
        "Write a function unique  to find unique elements in a list"
      ]
    },
    {
      "cell_type": "code",
      "metadata": {
        "colab": {
          "base_uri": "https://localhost:8080/"
        },
        "id": "6QOvaqnvfPtO",
        "outputId": "c9e3aa32-12e1-4f5b-f269-b577cf493e6a"
      },
      "source": [
        "def Unique(lst):\n",
        "  for i in lst:\n",
        "    count=lst.count(i)\n",
        "    if count==1:\n",
        "      print(i,end=\"  \")\n",
        "n=int(input(\"Enter number of elements in a list:\"))\n",
        "lst=[int(input()) for i in range(n)]\n",
        "print(\"list elements:\",lst)\n",
        "print(\"Unique elements :\",end=\"\")\n",
        "Unique(lst)"
      ],
      "execution_count": null,
      "outputs": [
        {
          "output_type": "stream",
          "text": [
            "Enter number of elements in a list:8\n",
            "1\n",
            "1\n",
            "2\n",
            "3\n",
            "4\n",
            "5\n",
            "4\n",
            "3\n",
            "list elements: [1, 1, 2, 3, 4, 5, 4, 3]\n",
            "Unique elements :2  5  "
          ],
          "name": "stdout"
        }
      ]
    }
  ]
}