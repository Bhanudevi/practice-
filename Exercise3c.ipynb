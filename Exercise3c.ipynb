{
  "nbformat": 4,
  "nbformat_minor": 0,
  "metadata": {
    "colab": {
      "name": "Exercise3c.ipynb",
      "provenance": [],
      "collapsed_sections": [],
      "authorship_tag": "ABX9TyNamUikP+WnFotLhPVaQVXC",
      "include_colab_link": true
    },
    "kernelspec": {
      "name": "python3",
      "display_name": "Python 3"
    },
    "language_info": {
      "name": "python"
    }
  },
  "cells": [
    {
      "cell_type": "markdown",
      "metadata": {
        "id": "view-in-github",
        "colab_type": "text"
      },
      "source": [
        "<a href=\"https://colab.research.google.com/github/Bhanudevi/practice-/blob/main/Exercise3c.ipynb\" target=\"_parent\"><img src=\"https://colab.research.google.com/assets/colab-badge.svg\" alt=\"Open In Colab\"/></a>"
      ]
    },
    {
      "cell_type": "markdown",
      "metadata": {
        "id": "k24BU5qbXtm3"
      },
      "source": [
        " Sequences are one of the principal built-in data types besides numerics, mappings, files, instances and exceptions. Python provides for six sequence (or sequential) data types:strings,byte sequences,byte arrays,lists,tuples,range objects\n",
        "The items or elements of strings, lists and tuples are ordered in a defined sequence\n",
        "The elements can be accessed via indices"
      ]
    },
    {
      "cell_type": "code",
      "metadata": {
        "colab": {
          "base_uri": "https://localhost:8080/"
        },
        "id": "KkwnJALKYLfi",
        "outputId": "7984d847-9878-4835-d59c-a8392b1df3d1"
      },
      "source": [
        " \n",
        " \n",
        " \n",
        " \n",
        "Lst=[]\n",
        "n=int(input(\"Enter limit:\"))\n",
        "print(\"Enter elements:\")\n",
        "for i in range(n):\n",
        "  a=int(input())\n",
        "  Lst.append(a)\n",
        "print(Lst)"
      ],
      "execution_count": null,
      "outputs": [
        {
          "output_type": "stream",
          "text": [
            "Enter limit:5\n",
            "Enter elements:\n",
            "1\n",
            "2\n",
            "3\n",
            "3\n",
            "4\n",
            "[1, 2, 3, 3, 4]\n"
          ],
          "name": "stdout"
        }
      ]
    },
    {
      "cell_type": "markdown",
      "metadata": {
        "id": "IUBr5jwRZT7C"
      },
      "source": [
        "Above program is an example for list"
      ]
    }
  ]
}