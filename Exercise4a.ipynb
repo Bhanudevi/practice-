{
  "nbformat": 4,
  "nbformat_minor": 0,
  "metadata": {
    "colab": {
      "name": "Exercise4a.ipynb",
      "provenance": [],
      "collapsed_sections": [],
      "authorship_tag": "ABX9TyMlnn8SMUY6+e6+QegbAqWw",
      "include_colab_link": true
    },
    "kernelspec": {
      "name": "python3",
      "display_name": "Python 3"
    },
    "language_info": {
      "name": "python"
    }
  },
  "cells": [
    {
      "cell_type": "markdown",
      "metadata": {
        "id": "view-in-github",
        "colab_type": "text"
      },
      "source": [
        "<a href=\"https://colab.research.google.com/github/Bhanudevi/practice-/blob/main/Exercise4a.ipynb\" target=\"_parent\"><img src=\"https://colab.research.google.com/assets/colab-badge.svg\" alt=\"Open In Colab\"/></a>"
      ]
    },
    {
      "cell_type": "markdown",
      "metadata": {
        "id": "PEQ2dOuwhXK5"
      },
      "source": [
        "To find the sum of all prime numbers between 2 million(2,000,000)"
      ]
    },
    {
      "cell_type": "code",
      "metadata": {
        "colab": {
          "base_uri": "https://localhost:8080/"
        },
        "id": "vmX32bJihjHk",
        "outputId": "6e299f50-1fc2-4d75-eda4-7a6423cc699b"
      },
      "source": [
        "sum=0\n",
        "for i in range(1,2000):\n",
        "  count=0\n",
        "  for j in range(1,i):\n",
        "    if i%j==0:\n",
        "      count+=1\n",
        "  if count==1:\n",
        "    sum+=i\n",
        "print(\"Sum of all prime numbers is\",sum)"
      ],
      "execution_count": null,
      "outputs": [
        {
          "output_type": "stream",
          "text": [
            "Sum of all prime numbers is 277050\n"
          ],
          "name": "stdout"
        }
      ]
    },
    {
      "cell_type": "markdown",
      "metadata": {
        "id": "BpFdoaQhk0dY"
      },
      "source": [
        "For outermost loop we take 2000000 instead of 2000"
      ]
    }
  ]
}